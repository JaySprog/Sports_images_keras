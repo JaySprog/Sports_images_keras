{
 "cells": [
  {
   "cell_type": "markdown",
   "id": "8c9c6dcd",
   "metadata": {},
   "source": [
    "pretrained convnet, augmentation, learning rate , trainable"
   ]
  },
  {
   "cell_type": "code",
   "execution_count": 73,
   "id": "f94d6408",
   "metadata": {},
   "outputs": [
    {
     "name": "stdout",
     "output_type": "stream",
     "text": [
      "Model: \"vgg16\"\n",
      "_________________________________________________________________\n",
      " Layer (type)                Output Shape              Param #   \n",
      "=================================================================\n",
      " input_7 (InputLayer)        [(None, 224, 224, 3)]     0         \n",
      "                                                                 \n",
      " block1_conv1 (Conv2D)       (None, 224, 224, 64)      1792      \n",
      "                                                                 \n",
      " block1_conv2 (Conv2D)       (None, 224, 224, 64)      36928     \n",
      "                                                                 \n",
      " block1_pool (MaxPooling2D)  (None, 112, 112, 64)      0         \n",
      "                                                                 \n",
      " block2_conv1 (Conv2D)       (None, 112, 112, 128)     73856     \n",
      "                                                                 \n",
      " block2_conv2 (Conv2D)       (None, 112, 112, 128)     147584    \n",
      "                                                                 \n",
      " block2_pool (MaxPooling2D)  (None, 56, 56, 128)       0         \n",
      "                                                                 \n",
      " block3_conv1 (Conv2D)       (None, 56, 56, 256)       295168    \n",
      "                                                                 \n",
      " block3_conv2 (Conv2D)       (None, 56, 56, 256)       590080    \n",
      "                                                                 \n",
      " block3_conv3 (Conv2D)       (None, 56, 56, 256)       590080    \n",
      "                                                                 \n",
      " block3_pool (MaxPooling2D)  (None, 28, 28, 256)       0         \n",
      "                                                                 \n",
      " block4_conv1 (Conv2D)       (None, 28, 28, 512)       1180160   \n",
      "                                                                 \n",
      " block4_conv2 (Conv2D)       (None, 28, 28, 512)       2359808   \n",
      "                                                                 \n",
      " block4_conv3 (Conv2D)       (None, 28, 28, 512)       2359808   \n",
      "                                                                 \n",
      " block4_pool (MaxPooling2D)  (None, 14, 14, 512)       0         \n",
      "                                                                 \n",
      " block5_conv1 (Conv2D)       (None, 14, 14, 512)       2359808   \n",
      "                                                                 \n",
      " block5_conv2 (Conv2D)       (None, 14, 14, 512)       2359808   \n",
      "                                                                 \n",
      " block5_conv3 (Conv2D)       (None, 14, 14, 512)       2359808   \n",
      "                                                                 \n",
      " block5_pool (MaxPooling2D)  (None, 7, 7, 512)         0         \n",
      "                                                                 \n",
      "=================================================================\n",
      "Total params: 14,714,688\n",
      "Trainable params: 14,714,688\n",
      "Non-trainable params: 0\n",
      "_________________________________________________________________\n"
     ]
    }
   ],
   "source": [
    "from keras.applications import VGG16\n",
    "conv_base = VGG16(weights='imagenet',\n",
    "                  include_top=False,\n",
    "                  input_shape=(224, 224, 3))\n",
    "conv_base.summary()"
   ]
  },
  {
   "cell_type": "code",
   "execution_count": 74,
   "id": "8f3c3d13",
   "metadata": {},
   "outputs": [
    {
     "name": "stdout",
     "output_type": "stream",
     "text": [
      "Model: \"sequential_6\"\n",
      "_________________________________________________________________\n",
      " Layer (type)                Output Shape              Param #   \n",
      "=================================================================\n",
      " vgg16 (Functional)          (None, 7, 7, 512)         14714688  \n",
      "                                                                 \n",
      " flatten_6 (Flatten)         (None, 25088)             0         \n",
      "                                                                 \n",
      " dense_12 (Dense)            (None, 256)               6422784   \n",
      "                                                                 \n",
      " dense_13 (Dense)            (None, 100)               25700     \n",
      "                                                                 \n",
      "=================================================================\n",
      "Total params: 21,163,172\n",
      "Trainable params: 21,163,172\n",
      "Non-trainable params: 0\n",
      "_________________________________________________________________\n"
     ]
    }
   ],
   "source": [
    "from keras import models\n",
    "from keras import layers\n",
    "model = models.Sequential()\n",
    "model.add(conv_base)\n",
    "model.add(layers.Flatten())\n",
    "model.add(layers.Dense(256, activation='relu'))\n",
    "model.add(layers.Dense(100, activation='softmax'))\n",
    "model.summary()"
   ]
  },
  {
   "cell_type": "code",
   "execution_count": 75,
   "id": "bb1623e9",
   "metadata": {},
   "outputs": [
    {
     "name": "stdout",
     "output_type": "stream",
     "text": [
      "This is the number of trainable weights before freezing the conv base: 30\n"
     ]
    }
   ],
   "source": [
    "print('This is the number of trainable weights '\n",
    "         'before freezing the conv base:', len(model.trainable_weights))"
   ]
  },
  {
   "cell_type": "code",
   "execution_count": 76,
   "id": "ca142b39",
   "metadata": {},
   "outputs": [
    {
     "name": "stdout",
     "output_type": "stream",
     "text": [
      "This is the number of trainable weights after freezing the conv base: 4\n"
     ]
    }
   ],
   "source": [
    "conv_base.trainable = False\n",
    "print('This is the number of trainable weights '\n",
    "          'after freezing the conv base:', len(model.trainable_weights))"
   ]
  },
  {
   "cell_type": "code",
   "execution_count": 77,
   "id": "3a465217",
   "metadata": {},
   "outputs": [],
   "source": [
    "from keras.preprocessing.image import ImageDataGenerator\n",
    "a = ImageDataGenerator(\n",
    "    rescale=1./255,\n",
    "    rotation_range=20,\n",
    "    width_shift_range=0.1,\n",
    "    height_shift_range=0.1,\n",
    "    shear_range=0.1,\n",
    "    zoom_range=0.1,\n",
    "    horizontal_flip=True,)"
   ]
  },
  {
   "cell_type": "code",
   "execution_count": 78,
   "id": "82dcd46e",
   "metadata": {},
   "outputs": [
    {
     "name": "stdout",
     "output_type": "stream",
     "text": [
      "Found 13572 images belonging to 100 classes.\n"
     ]
    }
   ],
   "source": [
    "train=a.flow_from_directory(directory='/Users/vijay/Downloads/sports/train',\n",
    "                           target_size=(224, 224), batch_size=10, class_mode='categorical')"
   ]
  },
  {
   "cell_type": "code",
   "execution_count": 79,
   "id": "1449c798",
   "metadata": {},
   "outputs": [
    {
     "name": "stdout",
     "output_type": "stream",
     "text": [
      "data batch shape: (10, 224, 224, 3)\n",
      "labels batch shape: (10, 100)\n"
     ]
    }
   ],
   "source": [
    "for data_batch, labels_batch in train:\n",
    "    print('data batch shape:', data_batch.shape)\n",
    "    print('labels batch shape:', labels_batch.shape)\n",
    "    break"
   ]
  },
  {
   "cell_type": "code",
   "execution_count": 80,
   "id": "201446c5",
   "metadata": {},
   "outputs": [],
   "source": [
    "valid_datagen = ImageDataGenerator(rescale=1./255)"
   ]
  },
  {
   "cell_type": "code",
   "execution_count": 81,
   "id": "d31d9a70",
   "metadata": {},
   "outputs": [
    {
     "name": "stdout",
     "output_type": "stream",
     "text": [
      "Found 500 images belonging to 100 classes.\n"
     ]
    }
   ],
   "source": [
    "valid=valid_datagen.flow_from_directory(directory='/Users/vijay/Downloads/sports/valid',\n",
    "                           target_size=(224, 224), batch_size=10, class_mode='categorical')"
   ]
  },
  {
   "cell_type": "code",
   "execution_count": 82,
   "id": "34a35222",
   "metadata": {},
   "outputs": [
    {
     "name": "stdout",
     "output_type": "stream",
     "text": [
      "data batch shape: (10, 224, 224, 3)\n",
      "labels batch shape: (10, 100)\n"
     ]
    }
   ],
   "source": [
    "for data_batch, labels_batch in valid:\n",
    "    print('data batch shape:', data_batch.shape)\n",
    "    print('labels batch shape:', labels_batch.shape)\n",
    "    break"
   ]
  },
  {
   "cell_type": "code",
   "execution_count": 83,
   "id": "8a1b7979",
   "metadata": {},
   "outputs": [],
   "source": [
    "from keras import optimizers\n",
    "model.compile(loss='categorical_crossentropy',optimizer='rmsprop', metrics=['accuracy'])"
   ]
  },
  {
   "cell_type": "code",
   "execution_count": 84,
   "id": "fd745b7a",
   "metadata": {},
   "outputs": [
    {
     "name": "stdout",
     "output_type": "stream",
     "text": [
      "Epoch 1/150\n",
      "100/100 [==============================] - 424s 4s/step - loss: 5.4338 - accuracy: 0.0230 - val_loss: 4.6535 - val_accuracy: 0.0120\n",
      "Epoch 2/150\n",
      "100/100 [==============================] - 412s 4s/step - loss: 4.5948 - accuracy: 0.0150 - val_loss: 4.6427 - val_accuracy: 0.0140\n",
      "Epoch 3/150\n",
      "100/100 [==============================] - 425s 4s/step - loss: 4.5738 - accuracy: 0.0320 - val_loss: 4.4795 - val_accuracy: 0.0340\n",
      "Epoch 4/150\n",
      "100/100 [==============================] - 414s 4s/step - loss: 4.4993 - accuracy: 0.0370 - val_loss: 4.4646 - val_accuracy: 0.0380\n",
      "Epoch 5/150\n",
      "100/100 [==============================] - 414s 4s/step - loss: 4.4095 - accuracy: 0.0270 - val_loss: 4.3565 - val_accuracy: 0.0460\n",
      "Epoch 6/150\n",
      "100/100 [==============================] - 432s 4s/step - loss: 4.2676 - accuracy: 0.0570 - val_loss: 4.1672 - val_accuracy: 0.0540\n",
      "Epoch 7/150\n",
      "100/100 [==============================] - 372s 4s/step - loss: 4.1763 - accuracy: 0.0570 - val_loss: 4.0408 - val_accuracy: 0.0680\n",
      "Epoch 8/150\n",
      "100/100 [==============================] - 363s 4s/step - loss: 4.0863 - accuracy: 0.0605 - val_loss: 3.8964 - val_accuracy: 0.0900\n",
      "Epoch 9/150\n",
      "100/100 [==============================] - 365s 4s/step - loss: 4.0111 - accuracy: 0.0700 - val_loss: 3.8541 - val_accuracy: 0.0720\n",
      "Epoch 10/150\n",
      "100/100 [==============================] - 417s 4s/step - loss: 3.8848 - accuracy: 0.0830 - val_loss: 3.8939 - val_accuracy: 0.0840\n",
      "Epoch 11/150\n",
      "100/100 [==============================] - 431s 4s/step - loss: 3.7267 - accuracy: 0.0870 - val_loss: 3.8147 - val_accuracy: 0.0960\n",
      "Epoch 12/150\n",
      "100/100 [==============================] - 403s 4s/step - loss: 3.6235 - accuracy: 0.1390 - val_loss: 3.7509 - val_accuracy: 0.1200\n",
      "Epoch 13/150\n",
      "100/100 [==============================] - 409s 4s/step - loss: 3.5715 - accuracy: 0.1300 - val_loss: 3.4434 - val_accuracy: 0.1560\n",
      "Epoch 14/150\n",
      "100/100 [==============================] - 408s 4s/step - loss: 3.4134 - accuracy: 0.1630 - val_loss: 3.1574 - val_accuracy: 0.2020\n",
      "Epoch 15/150\n",
      "100/100 [==============================] - 409s 4s/step - loss: 3.3210 - accuracy: 0.1550 - val_loss: 3.2422 - val_accuracy: 0.1920\n",
      "Epoch 16/150\n",
      "100/100 [==============================] - 418s 4s/step - loss: 3.2635 - accuracy: 0.1840 - val_loss: 3.2773 - val_accuracy: 0.1800\n",
      "Epoch 17/150\n",
      "100/100 [==============================] - 431s 4s/step - loss: 3.2725 - accuracy: 0.1740 - val_loss: 3.1435 - val_accuracy: 0.2100\n",
      "Epoch 18/150\n",
      "100/100 [==============================] - 414s 4s/step - loss: 3.1639 - accuracy: 0.2070 - val_loss: 2.8303 - val_accuracy: 0.2540\n",
      "Epoch 19/150\n",
      "100/100 [==============================] - 412s 4s/step - loss: 3.0713 - accuracy: 0.2170 - val_loss: 2.9109 - val_accuracy: 0.2620\n",
      "Epoch 20/150\n",
      "100/100 [==============================] - 415s 4s/step - loss: 3.0783 - accuracy: 0.2160 - val_loss: 2.7206 - val_accuracy: 0.2760\n",
      "Epoch 21/150\n",
      "100/100 [==============================] - 416s 4s/step - loss: 2.9200 - accuracy: 0.2300 - val_loss: 2.6638 - val_accuracy: 0.3220\n",
      "Epoch 22/150\n",
      "100/100 [==============================] - 393s 4s/step - loss: 2.9047 - accuracy: 0.2410 - val_loss: 2.8104 - val_accuracy: 0.2620\n",
      "Epoch 23/150\n",
      "100/100 [==============================] - 377s 4s/step - loss: 2.7735 - accuracy: 0.2740 - val_loss: 2.6813 - val_accuracy: 0.3080\n",
      "Epoch 24/150\n",
      "100/100 [==============================] - 354s 4s/step - loss: 2.8859 - accuracy: 0.2380 - val_loss: 2.6063 - val_accuracy: 0.3340\n",
      "Epoch 25/150\n",
      "100/100 [==============================] - 346s 3s/step - loss: 2.8636 - accuracy: 0.2850 - val_loss: 2.9072 - val_accuracy: 0.2820\n",
      "Epoch 26/150\n",
      "100/100 [==============================] - 406s 4s/step - loss: 2.7434 - accuracy: 0.3004 - val_loss: 2.5616 - val_accuracy: 0.3340\n",
      "Epoch 27/150\n",
      "100/100 [==============================] - 482s 5s/step - loss: 2.7491 - accuracy: 0.2760 - val_loss: 2.6091 - val_accuracy: 0.3180\n",
      "Epoch 28/150\n",
      "100/100 [==============================] - 443s 4s/step - loss: 2.7873 - accuracy: 0.2860 - val_loss: 2.6615 - val_accuracy: 0.3040\n",
      "Epoch 29/150\n",
      "100/100 [==============================] - 494s 5s/step - loss: 2.7094 - accuracy: 0.3030 - val_loss: 2.5574 - val_accuracy: 0.3500\n",
      "Epoch 30/150\n",
      "100/100 [==============================] - 466s 5s/step - loss: 2.5831 - accuracy: 0.3110 - val_loss: 2.9193 - val_accuracy: 0.3020\n",
      "Epoch 31/150\n",
      "100/100 [==============================] - 379s 4s/step - loss: 2.6580 - accuracy: 0.3070 - val_loss: 2.6490 - val_accuracy: 0.3060\n",
      "Epoch 32/150\n",
      "100/100 [==============================] - 365s 4s/step - loss: 2.5885 - accuracy: 0.3350 - val_loss: 2.5068 - val_accuracy: 0.3500\n",
      "Epoch 33/150\n",
      "100/100 [==============================] - 372s 4s/step - loss: 2.6275 - accuracy: 0.3340 - val_loss: 2.4560 - val_accuracy: 0.3480\n",
      "Epoch 34/150\n",
      "100/100 [==============================] - 368s 4s/step - loss: 2.5888 - accuracy: 0.3160 - val_loss: 2.3269 - val_accuracy: 0.4040\n",
      "Epoch 35/150\n",
      "100/100 [==============================] - 365s 4s/step - loss: 2.5374 - accuracy: 0.3380 - val_loss: 2.4924 - val_accuracy: 0.3660\n",
      "Epoch 36/150\n",
      "100/100 [==============================] - 368s 4s/step - loss: 2.6540 - accuracy: 0.3160 - val_loss: 2.3288 - val_accuracy: 0.3600\n",
      "Epoch 37/150\n",
      "100/100 [==============================] - 369s 4s/step - loss: 2.5659 - accuracy: 0.3330 - val_loss: 2.5470 - val_accuracy: 0.3620\n",
      "Epoch 38/150\n",
      "100/100 [==============================] - 371s 4s/step - loss: 2.6029 - accuracy: 0.3210 - val_loss: 2.4137 - val_accuracy: 0.3960\n",
      "Epoch 39/150\n",
      "100/100 [==============================] - 372s 4s/step - loss: 2.6363 - accuracy: 0.3120 - val_loss: 2.6240 - val_accuracy: 0.3580\n",
      "Epoch 40/150\n",
      "100/100 [==============================] - 371s 4s/step - loss: 2.5642 - accuracy: 0.3520 - val_loss: 2.6433 - val_accuracy: 0.3580\n",
      "Epoch 41/150\n",
      "100/100 [==============================] - 370s 4s/step - loss: 2.5284 - accuracy: 0.3400 - val_loss: 2.5142 - val_accuracy: 0.3800\n",
      "Epoch 42/150\n",
      "100/100 [==============================] - 371s 4s/step - loss: 2.5632 - accuracy: 0.3300 - val_loss: 2.4930 - val_accuracy: 0.4240\n",
      "Epoch 43/150\n",
      "100/100 [==============================] - 367s 4s/step - loss: 2.5466 - accuracy: 0.3450 - val_loss: 2.6257 - val_accuracy: 0.3640\n",
      "Epoch 44/150\n",
      "100/100 [==============================] - 371s 4s/step - loss: 2.4096 - accuracy: 0.3950 - val_loss: 2.3835 - val_accuracy: 0.4280\n",
      "Epoch 45/150\n",
      "100/100 [==============================] - 367s 4s/step - loss: 2.5392 - accuracy: 0.3490 - val_loss: 2.4143 - val_accuracy: 0.3840\n",
      "Epoch 46/150\n",
      "100/100 [==============================] - 368s 4s/step - loss: 2.4567 - accuracy: 0.3600 - val_loss: 2.2365 - val_accuracy: 0.4280\n",
      "Epoch 47/150\n",
      "100/100 [==============================] - 368s 4s/step - loss: 2.5214 - accuracy: 0.3590 - val_loss: 2.3469 - val_accuracy: 0.3980\n",
      "Epoch 48/150\n",
      "100/100 [==============================] - 368s 4s/step - loss: 2.4151 - accuracy: 0.3540 - val_loss: 2.3877 - val_accuracy: 0.3940\n",
      "Epoch 49/150\n",
      "100/100 [==============================] - 368s 4s/step - loss: 2.4621 - accuracy: 0.3300 - val_loss: 3.0045 - val_accuracy: 0.3600\n",
      "Epoch 50/150\n",
      "100/100 [==============================] - 366s 4s/step - loss: 2.4109 - accuracy: 0.3710 - val_loss: 2.3852 - val_accuracy: 0.4120\n",
      "Epoch 51/150\n",
      "100/100 [==============================] - 365s 4s/step - loss: 2.5766 - accuracy: 0.3450 - val_loss: 2.6599 - val_accuracy: 0.3700\n",
      "Epoch 52/150\n",
      "100/100 [==============================] - 364s 4s/step - loss: 2.4720 - accuracy: 0.3560 - val_loss: 2.4138 - val_accuracy: 0.3900\n",
      "Epoch 53/150\n",
      "100/100 [==============================] - 363s 4s/step - loss: 2.3895 - accuracy: 0.3860 - val_loss: 2.3602 - val_accuracy: 0.4120\n",
      "Epoch 54/150\n",
      "100/100 [==============================] - 365s 4s/step - loss: 2.4142 - accuracy: 0.3650 - val_loss: 2.1895 - val_accuracy: 0.4300\n",
      "Epoch 55/150\n",
      "100/100 [==============================] - 364s 4s/step - loss: 2.6530 - accuracy: 0.3370 - val_loss: 2.6176 - val_accuracy: 0.3540\n",
      "Epoch 56/150\n",
      "100/100 [==============================] - 364s 4s/step - loss: 2.4126 - accuracy: 0.3860 - val_loss: 2.3554 - val_accuracy: 0.3720\n",
      "Epoch 57/150\n",
      "100/100 [==============================] - 365s 4s/step - loss: 2.4461 - accuracy: 0.3480 - val_loss: 2.4833 - val_accuracy: 0.3860\n",
      "Epoch 58/150\n",
      "100/100 [==============================] - 366s 4s/step - loss: 2.4072 - accuracy: 0.3560 - val_loss: 2.4258 - val_accuracy: 0.3900\n",
      "Epoch 59/150\n",
      "100/100 [==============================] - 366s 4s/step - loss: 2.4303 - accuracy: 0.3820 - val_loss: 2.7051 - val_accuracy: 0.3800\n",
      "Epoch 60/150\n",
      "100/100 [==============================] - 365s 4s/step - loss: 2.4447 - accuracy: 0.3850 - val_loss: 2.6697 - val_accuracy: 0.3760\n",
      "Epoch 61/150\n",
      "100/100 [==============================] - 365s 4s/step - loss: 2.4622 - accuracy: 0.3650 - val_loss: 2.3939 - val_accuracy: 0.4200\n",
      "Epoch 62/150\n",
      "100/100 [==============================] - 364s 4s/step - loss: 2.3829 - accuracy: 0.3880 - val_loss: 2.5589 - val_accuracy: 0.3780\n",
      "Epoch 63/150\n",
      "100/100 [==============================] - 362s 4s/step - loss: 2.3323 - accuracy: 0.4020 - val_loss: 2.5956 - val_accuracy: 0.4160\n",
      "Epoch 64/150\n",
      "100/100 [==============================] - 369s 4s/step - loss: 2.5162 - accuracy: 0.3840 - val_loss: 2.4406 - val_accuracy: 0.4180\n",
      "Epoch 65/150\n",
      "100/100 [==============================] - 363s 4s/step - loss: 2.4779 - accuracy: 0.3760 - val_loss: 2.4805 - val_accuracy: 0.4340\n",
      "Epoch 66/150\n",
      "100/100 [==============================] - 367s 4s/step - loss: 2.4485 - accuracy: 0.3680 - val_loss: 2.2524 - val_accuracy: 0.4460\n",
      "Epoch 67/150\n",
      "100/100 [==============================] - 367s 4s/step - loss: 2.3692 - accuracy: 0.3850 - val_loss: 2.4595 - val_accuracy: 0.4480\n",
      "Epoch 68/150\n",
      "100/100 [==============================] - 366s 4s/step - loss: 2.5704 - accuracy: 0.3580 - val_loss: 2.3600 - val_accuracy: 0.4500\n",
      "Epoch 69/150\n",
      "100/100 [==============================] - 365s 4s/step - loss: 2.4101 - accuracy: 0.3710 - val_loss: 2.6663 - val_accuracy: 0.3900\n",
      "Epoch 70/150\n",
      "100/100 [==============================] - 364s 4s/step - loss: 2.3645 - accuracy: 0.4010 - val_loss: 2.5988 - val_accuracy: 0.3940\n",
      "Epoch 71/150\n",
      "100/100 [==============================] - 363s 4s/step - loss: 2.5703 - accuracy: 0.3590 - val_loss: 2.3810 - val_accuracy: 0.4060\n",
      "Epoch 72/150\n",
      "100/100 [==============================] - 365s 4s/step - loss: 2.4755 - accuracy: 0.3620 - val_loss: 2.4726 - val_accuracy: 0.4340\n",
      "Epoch 73/150\n",
      "100/100 [==============================] - 362s 4s/step - loss: 2.3499 - accuracy: 0.4030 - val_loss: 2.2975 - val_accuracy: 0.4480\n",
      "Epoch 74/150\n",
      "100/100 [==============================] - 364s 4s/step - loss: 2.3949 - accuracy: 0.3980 - val_loss: 2.5338 - val_accuracy: 0.4080\n",
      "Epoch 75/150\n",
      "100/100 [==============================] - 362s 4s/step - loss: 2.3548 - accuracy: 0.3900 - val_loss: 2.6645 - val_accuracy: 0.3860\n",
      "Epoch 76/150\n",
      "100/100 [==============================] - 364s 4s/step - loss: 2.4696 - accuracy: 0.3640 - val_loss: 2.3143 - val_accuracy: 0.3980\n",
      "Epoch 77/150\n",
      "100/100 [==============================] - 367s 4s/step - loss: 2.4341 - accuracy: 0.3990 - val_loss: 2.7554 - val_accuracy: 0.4180\n",
      "Epoch 78/150\n",
      "100/100 [==============================] - 365s 4s/step - loss: 2.4498 - accuracy: 0.3870 - val_loss: 2.6668 - val_accuracy: 0.3900\n",
      "Epoch 79/150\n",
      "100/100 [==============================] - 366s 4s/step - loss: 2.4072 - accuracy: 0.3840 - val_loss: 2.3055 - val_accuracy: 0.4300\n",
      "Epoch 80/150\n",
      "100/100 [==============================] - 365s 4s/step - loss: 2.5138 - accuracy: 0.3870 - val_loss: 3.0206 - val_accuracy: 0.3960\n",
      "Epoch 81/150\n",
      "100/100 [==============================] - 364s 4s/step - loss: 2.4705 - accuracy: 0.3830 - val_loss: 2.2444 - val_accuracy: 0.4680\n",
      "Epoch 82/150\n",
      "100/100 [==============================] - 364s 4s/step - loss: 2.3193 - accuracy: 0.4000 - val_loss: 2.6937 - val_accuracy: 0.4280\n",
      "Epoch 83/150\n",
      "100/100 [==============================] - 361s 4s/step - loss: 2.3830 - accuracy: 0.4210 - val_loss: 2.4992 - val_accuracy: 0.4140\n",
      "Epoch 84/150\n",
      "100/100 [==============================] - 362s 4s/step - loss: 2.5276 - accuracy: 0.3810 - val_loss: 2.6057 - val_accuracy: 0.4320\n",
      "Epoch 85/150\n",
      "100/100 [==============================] - 364s 4s/step - loss: 2.4328 - accuracy: 0.3730 - val_loss: 3.0696 - val_accuracy: 0.3820\n",
      "Epoch 86/150\n",
      "100/100 [==============================] - 364s 4s/step - loss: 2.2811 - accuracy: 0.4230 - val_loss: 3.1961 - val_accuracy: 0.3880\n",
      "Epoch 87/150\n",
      "100/100 [==============================] - 365s 4s/step - loss: 2.4825 - accuracy: 0.3950 - val_loss: 2.2579 - val_accuracy: 0.4760\n",
      "Epoch 88/150\n",
      "100/100 [==============================] - 366s 4s/step - loss: 2.3723 - accuracy: 0.3920 - val_loss: 2.9238 - val_accuracy: 0.3800\n",
      "Epoch 89/150\n",
      "100/100 [==============================] - 366s 4s/step - loss: 2.3375 - accuracy: 0.4120 - val_loss: 2.3079 - val_accuracy: 0.4320\n",
      "Epoch 90/150\n",
      "100/100 [==============================] - 366s 4s/step - loss: 2.4765 - accuracy: 0.3980 - val_loss: 2.3320 - val_accuracy: 0.4460\n",
      "Epoch 91/150\n",
      "100/100 [==============================] - 363s 4s/step - loss: 2.4676 - accuracy: 0.4010 - val_loss: 2.4272 - val_accuracy: 0.4440\n",
      "Epoch 92/150\n",
      "100/100 [==============================] - 363s 4s/step - loss: 2.4608 - accuracy: 0.4180 - val_loss: 2.4429 - val_accuracy: 0.4400\n",
      "Epoch 93/150\n",
      "100/100 [==============================] - 364s 4s/step - loss: 2.4092 - accuracy: 0.4020 - val_loss: 2.7278 - val_accuracy: 0.4340\n",
      "Epoch 94/150\n",
      "100/100 [==============================] - 363s 4s/step - loss: 2.3792 - accuracy: 0.4160 - val_loss: 2.5487 - val_accuracy: 0.4360\n",
      "Epoch 95/150\n",
      "100/100 [==============================] - 361s 4s/step - loss: 2.4761 - accuracy: 0.3910 - val_loss: 2.2548 - val_accuracy: 0.4660\n",
      "Epoch 96/150\n",
      "100/100 [==============================] - 363s 4s/step - loss: 2.3488 - accuracy: 0.3950 - val_loss: 2.5590 - val_accuracy: 0.4600\n",
      "Epoch 97/150\n",
      "100/100 [==============================] - 366s 4s/step - loss: 2.4574 - accuracy: 0.4100 - val_loss: 2.5325 - val_accuracy: 0.4120\n",
      "Epoch 98/150\n",
      "100/100 [==============================] - 365s 4s/step - loss: 2.3643 - accuracy: 0.4150 - val_loss: 2.7976 - val_accuracy: 0.3800\n",
      "Epoch 99/150\n",
      "100/100 [==============================] - 365s 4s/step - loss: 2.4273 - accuracy: 0.3960 - val_loss: 2.8284 - val_accuracy: 0.3540\n",
      "Epoch 100/150\n",
      "100/100 [==============================] - 365s 4s/step - loss: 2.3792 - accuracy: 0.3860 - val_loss: 2.5440 - val_accuracy: 0.4320\n",
      "Epoch 101/150\n",
      "100/100 [==============================] - 365s 4s/step - loss: 2.5595 - accuracy: 0.3920 - val_loss: 2.6255 - val_accuracy: 0.3960\n",
      "Epoch 102/150\n",
      "100/100 [==============================] - 366s 4s/step - loss: 2.4375 - accuracy: 0.3880 - val_loss: 2.9268 - val_accuracy: 0.4020\n",
      "Epoch 103/150\n",
      "100/100 [==============================] - 368s 4s/step - loss: 2.3575 - accuracy: 0.4300 - val_loss: 2.4892 - val_accuracy: 0.4100\n",
      "Epoch 104/150\n",
      "100/100 [==============================] - 366s 4s/step - loss: 2.3533 - accuracy: 0.4430 - val_loss: 2.4188 - val_accuracy: 0.4300\n",
      "Epoch 105/150\n",
      "100/100 [==============================] - 370s 4s/step - loss: 2.4305 - accuracy: 0.4040 - val_loss: 2.6795 - val_accuracy: 0.4200\n",
      "Epoch 106/150\n",
      "100/100 [==============================] - 368s 4s/step - loss: 2.3990 - accuracy: 0.4070 - val_loss: 3.1025 - val_accuracy: 0.3580\n",
      "Epoch 107/150\n",
      "100/100 [==============================] - 372s 4s/step - loss: 2.5080 - accuracy: 0.3630 - val_loss: 2.8653 - val_accuracy: 0.3760\n",
      "Epoch 108/150\n",
      "100/100 [==============================] - 369s 4s/step - loss: 2.4692 - accuracy: 0.4083 - val_loss: 2.3872 - val_accuracy: 0.4340\n",
      "Epoch 109/150\n",
      "100/100 [==============================] - 371s 4s/step - loss: 2.4048 - accuracy: 0.4140 - val_loss: 2.6584 - val_accuracy: 0.3900\n",
      "Epoch 110/150\n",
      "100/100 [==============================] - 373s 4s/step - loss: 2.4038 - accuracy: 0.3990 - val_loss: 2.6645 - val_accuracy: 0.4280\n",
      "Epoch 111/150\n",
      "100/100 [==============================] - 376s 4s/step - loss: 2.4736 - accuracy: 0.3890 - val_loss: 2.4818 - val_accuracy: 0.4140\n",
      "Epoch 112/150\n",
      "100/100 [==============================] - 371s 4s/step - loss: 2.3130 - accuracy: 0.4080 - val_loss: 2.5961 - val_accuracy: 0.4460\n",
      "Epoch 113/150\n",
      "100/100 [==============================] - 370s 4s/step - loss: 2.5599 - accuracy: 0.4040 - val_loss: 2.5624 - val_accuracy: 0.4460\n",
      "Epoch 114/150\n",
      "100/100 [==============================] - 375s 4s/step - loss: 2.3857 - accuracy: 0.3980 - val_loss: 2.5748 - val_accuracy: 0.4400\n",
      "Epoch 115/150\n",
      "100/100 [==============================] - 372s 4s/step - loss: 2.4686 - accuracy: 0.3980 - val_loss: 2.5874 - val_accuracy: 0.4560\n",
      "Epoch 116/150\n",
      "100/100 [==============================] - 374s 4s/step - loss: 2.4851 - accuracy: 0.4140 - val_loss: 2.9029 - val_accuracy: 0.4240\n",
      "Epoch 117/150\n",
      "100/100 [==============================] - 372s 4s/step - loss: 2.4259 - accuracy: 0.4110 - val_loss: 2.7845 - val_accuracy: 0.4320\n",
      "Epoch 118/150\n",
      "100/100 [==============================] - 375s 4s/step - loss: 2.4611 - accuracy: 0.4020 - val_loss: 2.7116 - val_accuracy: 0.4200\n",
      "Epoch 119/150\n",
      "100/100 [==============================] - 374s 4s/step - loss: 2.4161 - accuracy: 0.4170 - val_loss: 2.6095 - val_accuracy: 0.4420\n",
      "Epoch 120/150\n",
      "100/100 [==============================] - 372s 4s/step - loss: 2.4480 - accuracy: 0.3980 - val_loss: 2.4372 - val_accuracy: 0.4680\n",
      "Epoch 121/150\n",
      "100/100 [==============================] - 382s 4s/step - loss: 2.4282 - accuracy: 0.4120 - val_loss: 2.9214 - val_accuracy: 0.3880\n",
      "Epoch 122/150\n",
      "100/100 [==============================] - 393s 4s/step - loss: 2.5791 - accuracy: 0.3770 - val_loss: 4.1431 - val_accuracy: 0.3680\n",
      "Epoch 123/150\n",
      "100/100 [==============================] - 414s 4s/step - loss: 2.2911 - accuracy: 0.4300 - val_loss: 2.7596 - val_accuracy: 0.4160\n",
      "Epoch 124/150\n",
      "100/100 [==============================] - 396s 4s/step - loss: 2.6346 - accuracy: 0.3830 - val_loss: 2.5803 - val_accuracy: 0.4160\n",
      "Epoch 125/150\n",
      "100/100 [==============================] - 391s 4s/step - loss: 2.4458 - accuracy: 0.4130 - val_loss: 2.6571 - val_accuracy: 0.4240\n",
      "Epoch 126/150\n",
      "100/100 [==============================] - 376s 4s/step - loss: 2.4180 - accuracy: 0.3982 - val_loss: 3.9469 - val_accuracy: 0.3400\n",
      "Epoch 127/150\n",
      "100/100 [==============================] - 343s 3s/step - loss: 2.3936 - accuracy: 0.4210 - val_loss: 3.6348 - val_accuracy: 0.3540\n",
      "Epoch 128/150\n",
      "100/100 [==============================] - 351s 4s/step - loss: 2.5646 - accuracy: 0.3940 - val_loss: 2.7975 - val_accuracy: 0.4520\n",
      "Epoch 129/150\n",
      "100/100 [==============================] - 356s 4s/step - loss: 2.3900 - accuracy: 0.4430 - val_loss: 2.7897 - val_accuracy: 0.4000\n",
      "Epoch 130/150\n",
      "100/100 [==============================] - 360s 4s/step - loss: 2.3803 - accuracy: 0.4180 - val_loss: 2.9605 - val_accuracy: 0.4160\n",
      "Epoch 131/150\n",
      "100/100 [==============================] - 362s 4s/step - loss: 2.3892 - accuracy: 0.4120 - val_loss: 3.6798 - val_accuracy: 0.3920\n",
      "Epoch 132/150\n",
      "100/100 [==============================] - 362s 4s/step - loss: 2.4884 - accuracy: 0.3940 - val_loss: 2.9819 - val_accuracy: 0.4140\n",
      "Epoch 133/150\n",
      "100/100 [==============================] - 363s 4s/step - loss: 2.5098 - accuracy: 0.4070 - val_loss: 2.5794 - val_accuracy: 0.4320\n",
      "Epoch 134/150\n",
      "100/100 [==============================] - 364s 4s/step - loss: 2.5630 - accuracy: 0.4020 - val_loss: 2.8162 - val_accuracy: 0.4340\n",
      "Epoch 135/150\n",
      "100/100 [==============================] - 375s 4s/step - loss: 2.4601 - accuracy: 0.3900 - val_loss: 3.0372 - val_accuracy: 0.3860\n",
      "Epoch 136/150\n",
      "  6/100 [>.............................] - ETA: 3:56 - loss: 2.6723 - accuracy: 0.3500"
     ]
    },
    {
     "ename": "KeyboardInterrupt",
     "evalue": "",
     "output_type": "error",
     "traceback": [
      "\u001b[0;31m---------------------------------------------------------------------------\u001b[0m",
      "\u001b[0;31mKeyboardInterrupt\u001b[0m                         Traceback (most recent call last)",
      "\u001b[0;32m/var/folders/_h/gxq4nmq11dj40ltpzmp90_vh0000gp/T/ipykernel_39718/2178952845.py\u001b[0m in \u001b[0;36m<module>\u001b[0;34m\u001b[0m\n\u001b[0;32m----> 1\u001b[0;31m \u001b[0mhistory\u001b[0m \u001b[0;34m=\u001b[0m \u001b[0mmodel\u001b[0m\u001b[0;34m.\u001b[0m\u001b[0mfit\u001b[0m\u001b[0;34m(\u001b[0m\u001b[0mtrain\u001b[0m\u001b[0;34m,\u001b[0m\u001b[0msteps_per_epoch\u001b[0m\u001b[0;34m=\u001b[0m\u001b[0;36m100\u001b[0m\u001b[0;34m,\u001b[0m\u001b[0mepochs\u001b[0m\u001b[0;34m=\u001b[0m\u001b[0;36m150\u001b[0m\u001b[0;34m,\u001b[0m\u001b[0mvalidation_data\u001b[0m\u001b[0;34m=\u001b[0m\u001b[0mvalid\u001b[0m\u001b[0;34m)\u001b[0m\u001b[0;34m\u001b[0m\u001b[0;34m\u001b[0m\u001b[0m\n\u001b[0m",
      "\u001b[0;32m/opt/anaconda3/lib/python3.9/site-packages/keras/utils/traceback_utils.py\u001b[0m in \u001b[0;36merror_handler\u001b[0;34m(*args, **kwargs)\u001b[0m\n\u001b[1;32m     62\u001b[0m     \u001b[0mfiltered_tb\u001b[0m \u001b[0;34m=\u001b[0m \u001b[0;32mNone\u001b[0m\u001b[0;34m\u001b[0m\u001b[0;34m\u001b[0m\u001b[0m\n\u001b[1;32m     63\u001b[0m     \u001b[0;32mtry\u001b[0m\u001b[0;34m:\u001b[0m\u001b[0;34m\u001b[0m\u001b[0;34m\u001b[0m\u001b[0m\n\u001b[0;32m---> 64\u001b[0;31m       \u001b[0;32mreturn\u001b[0m \u001b[0mfn\u001b[0m\u001b[0;34m(\u001b[0m\u001b[0;34m*\u001b[0m\u001b[0margs\u001b[0m\u001b[0;34m,\u001b[0m \u001b[0;34m**\u001b[0m\u001b[0mkwargs\u001b[0m\u001b[0;34m)\u001b[0m\u001b[0;34m\u001b[0m\u001b[0;34m\u001b[0m\u001b[0m\n\u001b[0m\u001b[1;32m     65\u001b[0m     \u001b[0;32mexcept\u001b[0m \u001b[0mException\u001b[0m \u001b[0;32mas\u001b[0m \u001b[0me\u001b[0m\u001b[0;34m:\u001b[0m  \u001b[0;31m# pylint: disable=broad-except\u001b[0m\u001b[0;34m\u001b[0m\u001b[0;34m\u001b[0m\u001b[0m\n\u001b[1;32m     66\u001b[0m       \u001b[0mfiltered_tb\u001b[0m \u001b[0;34m=\u001b[0m \u001b[0m_process_traceback_frames\u001b[0m\u001b[0;34m(\u001b[0m\u001b[0me\u001b[0m\u001b[0;34m.\u001b[0m\u001b[0m__traceback__\u001b[0m\u001b[0;34m)\u001b[0m\u001b[0;34m\u001b[0m\u001b[0;34m\u001b[0m\u001b[0m\n",
      "\u001b[0;32m/opt/anaconda3/lib/python3.9/site-packages/keras/engine/training.py\u001b[0m in \u001b[0;36mfit\u001b[0;34m(self, x, y, batch_size, epochs, verbose, callbacks, validation_split, validation_data, shuffle, class_weight, sample_weight, initial_epoch, steps_per_epoch, validation_steps, validation_batch_size, validation_freq, max_queue_size, workers, use_multiprocessing)\u001b[0m\n\u001b[1;32m   1407\u001b[0m                 _r=1):\n\u001b[1;32m   1408\u001b[0m               \u001b[0mcallbacks\u001b[0m\u001b[0;34m.\u001b[0m\u001b[0mon_train_batch_begin\u001b[0m\u001b[0;34m(\u001b[0m\u001b[0mstep\u001b[0m\u001b[0;34m)\u001b[0m\u001b[0;34m\u001b[0m\u001b[0;34m\u001b[0m\u001b[0m\n\u001b[0;32m-> 1409\u001b[0;31m               \u001b[0mtmp_logs\u001b[0m \u001b[0;34m=\u001b[0m \u001b[0mself\u001b[0m\u001b[0;34m.\u001b[0m\u001b[0mtrain_function\u001b[0m\u001b[0;34m(\u001b[0m\u001b[0miterator\u001b[0m\u001b[0;34m)\u001b[0m\u001b[0;34m\u001b[0m\u001b[0;34m\u001b[0m\u001b[0m\n\u001b[0m\u001b[1;32m   1410\u001b[0m               \u001b[0;32mif\u001b[0m \u001b[0mdata_handler\u001b[0m\u001b[0;34m.\u001b[0m\u001b[0mshould_sync\u001b[0m\u001b[0;34m:\u001b[0m\u001b[0;34m\u001b[0m\u001b[0;34m\u001b[0m\u001b[0m\n\u001b[1;32m   1411\u001b[0m                 \u001b[0mcontext\u001b[0m\u001b[0;34m.\u001b[0m\u001b[0masync_wait\u001b[0m\u001b[0;34m(\u001b[0m\u001b[0;34m)\u001b[0m\u001b[0;34m\u001b[0m\u001b[0;34m\u001b[0m\u001b[0m\n",
      "\u001b[0;32m/opt/anaconda3/lib/python3.9/site-packages/tensorflow/python/util/traceback_utils.py\u001b[0m in \u001b[0;36merror_handler\u001b[0;34m(*args, **kwargs)\u001b[0m\n\u001b[1;32m    148\u001b[0m     \u001b[0mfiltered_tb\u001b[0m \u001b[0;34m=\u001b[0m \u001b[0;32mNone\u001b[0m\u001b[0;34m\u001b[0m\u001b[0;34m\u001b[0m\u001b[0m\n\u001b[1;32m    149\u001b[0m     \u001b[0;32mtry\u001b[0m\u001b[0;34m:\u001b[0m\u001b[0;34m\u001b[0m\u001b[0;34m\u001b[0m\u001b[0m\n\u001b[0;32m--> 150\u001b[0;31m       \u001b[0;32mreturn\u001b[0m \u001b[0mfn\u001b[0m\u001b[0;34m(\u001b[0m\u001b[0;34m*\u001b[0m\u001b[0margs\u001b[0m\u001b[0;34m,\u001b[0m \u001b[0;34m**\u001b[0m\u001b[0mkwargs\u001b[0m\u001b[0;34m)\u001b[0m\u001b[0;34m\u001b[0m\u001b[0;34m\u001b[0m\u001b[0m\n\u001b[0m\u001b[1;32m    151\u001b[0m     \u001b[0;32mexcept\u001b[0m \u001b[0mException\u001b[0m \u001b[0;32mas\u001b[0m \u001b[0me\u001b[0m\u001b[0;34m:\u001b[0m\u001b[0;34m\u001b[0m\u001b[0;34m\u001b[0m\u001b[0m\n\u001b[1;32m    152\u001b[0m       \u001b[0mfiltered_tb\u001b[0m \u001b[0;34m=\u001b[0m \u001b[0m_process_traceback_frames\u001b[0m\u001b[0;34m(\u001b[0m\u001b[0me\u001b[0m\u001b[0;34m.\u001b[0m\u001b[0m__traceback__\u001b[0m\u001b[0;34m)\u001b[0m\u001b[0;34m\u001b[0m\u001b[0;34m\u001b[0m\u001b[0m\n",
      "\u001b[0;32m/opt/anaconda3/lib/python3.9/site-packages/tensorflow/python/eager/def_function.py\u001b[0m in \u001b[0;36m__call__\u001b[0;34m(self, *args, **kwds)\u001b[0m\n\u001b[1;32m    913\u001b[0m \u001b[0;34m\u001b[0m\u001b[0m\n\u001b[1;32m    914\u001b[0m       \u001b[0;32mwith\u001b[0m \u001b[0mOptionalXlaContext\u001b[0m\u001b[0;34m(\u001b[0m\u001b[0mself\u001b[0m\u001b[0;34m.\u001b[0m\u001b[0m_jit_compile\u001b[0m\u001b[0;34m)\u001b[0m\u001b[0;34m:\u001b[0m\u001b[0;34m\u001b[0m\u001b[0;34m\u001b[0m\u001b[0m\n\u001b[0;32m--> 915\u001b[0;31m         \u001b[0mresult\u001b[0m \u001b[0;34m=\u001b[0m \u001b[0mself\u001b[0m\u001b[0;34m.\u001b[0m\u001b[0m_call\u001b[0m\u001b[0;34m(\u001b[0m\u001b[0;34m*\u001b[0m\u001b[0margs\u001b[0m\u001b[0;34m,\u001b[0m \u001b[0;34m**\u001b[0m\u001b[0mkwds\u001b[0m\u001b[0;34m)\u001b[0m\u001b[0;34m\u001b[0m\u001b[0;34m\u001b[0m\u001b[0m\n\u001b[0m\u001b[1;32m    916\u001b[0m \u001b[0;34m\u001b[0m\u001b[0m\n\u001b[1;32m    917\u001b[0m       \u001b[0mnew_tracing_count\u001b[0m \u001b[0;34m=\u001b[0m \u001b[0mself\u001b[0m\u001b[0;34m.\u001b[0m\u001b[0mexperimental_get_tracing_count\u001b[0m\u001b[0;34m(\u001b[0m\u001b[0;34m)\u001b[0m\u001b[0;34m\u001b[0m\u001b[0;34m\u001b[0m\u001b[0m\n",
      "\u001b[0;32m/opt/anaconda3/lib/python3.9/site-packages/tensorflow/python/eager/def_function.py\u001b[0m in \u001b[0;36m_call\u001b[0;34m(self, *args, **kwds)\u001b[0m\n\u001b[1;32m    945\u001b[0m       \u001b[0;31m# In this case we have created variables on the first call, so we run the\u001b[0m\u001b[0;34m\u001b[0m\u001b[0;34m\u001b[0m\u001b[0m\n\u001b[1;32m    946\u001b[0m       \u001b[0;31m# defunned version which is guaranteed to never create variables.\u001b[0m\u001b[0;34m\u001b[0m\u001b[0;34m\u001b[0m\u001b[0m\n\u001b[0;32m--> 947\u001b[0;31m       \u001b[0;32mreturn\u001b[0m \u001b[0mself\u001b[0m\u001b[0;34m.\u001b[0m\u001b[0m_stateless_fn\u001b[0m\u001b[0;34m(\u001b[0m\u001b[0;34m*\u001b[0m\u001b[0margs\u001b[0m\u001b[0;34m,\u001b[0m \u001b[0;34m**\u001b[0m\u001b[0mkwds\u001b[0m\u001b[0;34m)\u001b[0m  \u001b[0;31m# pylint: disable=not-callable\u001b[0m\u001b[0;34m\u001b[0m\u001b[0;34m\u001b[0m\u001b[0m\n\u001b[0m\u001b[1;32m    948\u001b[0m     \u001b[0;32melif\u001b[0m \u001b[0mself\u001b[0m\u001b[0;34m.\u001b[0m\u001b[0m_stateful_fn\u001b[0m \u001b[0;32mis\u001b[0m \u001b[0;32mnot\u001b[0m \u001b[0;32mNone\u001b[0m\u001b[0;34m:\u001b[0m\u001b[0;34m\u001b[0m\u001b[0;34m\u001b[0m\u001b[0m\n\u001b[1;32m    949\u001b[0m       \u001b[0;31m# Release the lock early so that multiple threads can perform the call\u001b[0m\u001b[0;34m\u001b[0m\u001b[0;34m\u001b[0m\u001b[0m\n",
      "\u001b[0;32m/opt/anaconda3/lib/python3.9/site-packages/tensorflow/python/eager/function.py\u001b[0m in \u001b[0;36m__call__\u001b[0;34m(self, *args, **kwargs)\u001b[0m\n\u001b[1;32m   2451\u001b[0m       (graph_function,\n\u001b[1;32m   2452\u001b[0m        filtered_flat_args) = self._maybe_define_function(args, kwargs)\n\u001b[0;32m-> 2453\u001b[0;31m     return graph_function._call_flat(\n\u001b[0m\u001b[1;32m   2454\u001b[0m         filtered_flat_args, captured_inputs=graph_function.captured_inputs)  # pylint: disable=protected-access\n\u001b[1;32m   2455\u001b[0m \u001b[0;34m\u001b[0m\u001b[0m\n",
      "\u001b[0;32m/opt/anaconda3/lib/python3.9/site-packages/tensorflow/python/eager/function.py\u001b[0m in \u001b[0;36m_call_flat\u001b[0;34m(self, args, captured_inputs, cancellation_manager)\u001b[0m\n\u001b[1;32m   1858\u001b[0m         and executing_eagerly):\n\u001b[1;32m   1859\u001b[0m       \u001b[0;31m# No tape is watching; skip to running the function.\u001b[0m\u001b[0;34m\u001b[0m\u001b[0;34m\u001b[0m\u001b[0m\n\u001b[0;32m-> 1860\u001b[0;31m       return self._build_call_outputs(self._inference_function.call(\n\u001b[0m\u001b[1;32m   1861\u001b[0m           ctx, args, cancellation_manager=cancellation_manager))\n\u001b[1;32m   1862\u001b[0m     forward_backward = self._select_forward_and_backward_functions(\n",
      "\u001b[0;32m/opt/anaconda3/lib/python3.9/site-packages/tensorflow/python/eager/function.py\u001b[0m in \u001b[0;36mcall\u001b[0;34m(self, ctx, args, cancellation_manager)\u001b[0m\n\u001b[1;32m    495\u001b[0m       \u001b[0;32mwith\u001b[0m \u001b[0m_InterpolateFunctionError\u001b[0m\u001b[0;34m(\u001b[0m\u001b[0mself\u001b[0m\u001b[0;34m)\u001b[0m\u001b[0;34m:\u001b[0m\u001b[0;34m\u001b[0m\u001b[0;34m\u001b[0m\u001b[0m\n\u001b[1;32m    496\u001b[0m         \u001b[0;32mif\u001b[0m \u001b[0mcancellation_manager\u001b[0m \u001b[0;32mis\u001b[0m \u001b[0;32mNone\u001b[0m\u001b[0;34m:\u001b[0m\u001b[0;34m\u001b[0m\u001b[0;34m\u001b[0m\u001b[0m\n\u001b[0;32m--> 497\u001b[0;31m           outputs = execute.execute(\n\u001b[0m\u001b[1;32m    498\u001b[0m               \u001b[0mstr\u001b[0m\u001b[0;34m(\u001b[0m\u001b[0mself\u001b[0m\u001b[0;34m.\u001b[0m\u001b[0msignature\u001b[0m\u001b[0;34m.\u001b[0m\u001b[0mname\u001b[0m\u001b[0;34m)\u001b[0m\u001b[0;34m,\u001b[0m\u001b[0;34m\u001b[0m\u001b[0;34m\u001b[0m\u001b[0m\n\u001b[1;32m    499\u001b[0m               \u001b[0mnum_outputs\u001b[0m\u001b[0;34m=\u001b[0m\u001b[0mself\u001b[0m\u001b[0;34m.\u001b[0m\u001b[0m_num_outputs\u001b[0m\u001b[0;34m,\u001b[0m\u001b[0;34m\u001b[0m\u001b[0;34m\u001b[0m\u001b[0m\n",
      "\u001b[0;32m/opt/anaconda3/lib/python3.9/site-packages/tensorflow/python/eager/execute.py\u001b[0m in \u001b[0;36mquick_execute\u001b[0;34m(op_name, num_outputs, inputs, attrs, ctx, name)\u001b[0m\n\u001b[1;32m     52\u001b[0m   \u001b[0;32mtry\u001b[0m\u001b[0;34m:\u001b[0m\u001b[0;34m\u001b[0m\u001b[0;34m\u001b[0m\u001b[0m\n\u001b[1;32m     53\u001b[0m     \u001b[0mctx\u001b[0m\u001b[0;34m.\u001b[0m\u001b[0mensure_initialized\u001b[0m\u001b[0;34m(\u001b[0m\u001b[0;34m)\u001b[0m\u001b[0;34m\u001b[0m\u001b[0;34m\u001b[0m\u001b[0m\n\u001b[0;32m---> 54\u001b[0;31m     tensors = pywrap_tfe.TFE_Py_Execute(ctx._handle, device_name, op_name,\n\u001b[0m\u001b[1;32m     55\u001b[0m                                         inputs, attrs, num_outputs)\n\u001b[1;32m     56\u001b[0m   \u001b[0;32mexcept\u001b[0m \u001b[0mcore\u001b[0m\u001b[0;34m.\u001b[0m\u001b[0m_NotOkStatusException\u001b[0m \u001b[0;32mas\u001b[0m \u001b[0me\u001b[0m\u001b[0;34m:\u001b[0m\u001b[0;34m\u001b[0m\u001b[0;34m\u001b[0m\u001b[0m\n",
      "\u001b[0;31mKeyboardInterrupt\u001b[0m: "
     ]
    }
   ],
   "source": [
    "history = model.fit(train,steps_per_epoch=100,epochs=150,validation_data=valid)"
   ]
  },
  {
   "cell_type": "code",
   "execution_count": 85,
   "id": "d6f7f96a",
   "metadata": {},
   "outputs": [
    {
     "ename": "NameError",
     "evalue": "name 'history' is not defined",
     "output_type": "error",
     "traceback": [
      "\u001b[0;31m---------------------------------------------------------------------------\u001b[0m",
      "\u001b[0;31mNameError\u001b[0m                                 Traceback (most recent call last)",
      "\u001b[0;32m/var/folders/_h/gxq4nmq11dj40ltpzmp90_vh0000gp/T/ipykernel_39718/134321579.py\u001b[0m in \u001b[0;36m<module>\u001b[0;34m\u001b[0m\n\u001b[1;32m      1\u001b[0m \u001b[0;32mimport\u001b[0m \u001b[0mmatplotlib\u001b[0m\u001b[0;34m.\u001b[0m\u001b[0mpyplot\u001b[0m \u001b[0;32mas\u001b[0m \u001b[0mplt\u001b[0m\u001b[0;34m\u001b[0m\u001b[0;34m\u001b[0m\u001b[0m\n\u001b[0;32m----> 2\u001b[0;31m \u001b[0macc\u001b[0m \u001b[0;34m=\u001b[0m \u001b[0mhistory\u001b[0m\u001b[0;34m.\u001b[0m\u001b[0mhistory\u001b[0m\u001b[0;34m[\u001b[0m\u001b[0;34m'accuracy'\u001b[0m\u001b[0;34m]\u001b[0m\u001b[0;34m\u001b[0m\u001b[0;34m\u001b[0m\u001b[0m\n\u001b[0m\u001b[1;32m      3\u001b[0m \u001b[0mval_acc\u001b[0m \u001b[0;34m=\u001b[0m \u001b[0mhistory\u001b[0m\u001b[0;34m.\u001b[0m\u001b[0mhistory\u001b[0m\u001b[0;34m[\u001b[0m\u001b[0;34m'val_accuracy'\u001b[0m\u001b[0;34m]\u001b[0m\u001b[0;34m\u001b[0m\u001b[0;34m\u001b[0m\u001b[0m\n\u001b[1;32m      4\u001b[0m \u001b[0mloss\u001b[0m \u001b[0;34m=\u001b[0m \u001b[0mhistory\u001b[0m\u001b[0;34m.\u001b[0m\u001b[0mhistory\u001b[0m\u001b[0;34m[\u001b[0m\u001b[0;34m'loss'\u001b[0m\u001b[0;34m]\u001b[0m\u001b[0;34m\u001b[0m\u001b[0;34m\u001b[0m\u001b[0m\n\u001b[1;32m      5\u001b[0m \u001b[0mval_loss\u001b[0m \u001b[0;34m=\u001b[0m \u001b[0mhistory\u001b[0m\u001b[0;34m.\u001b[0m\u001b[0mhistory\u001b[0m\u001b[0;34m[\u001b[0m\u001b[0;34m'val_loss'\u001b[0m\u001b[0;34m]\u001b[0m\u001b[0;34m\u001b[0m\u001b[0;34m\u001b[0m\u001b[0m\n",
      "\u001b[0;31mNameError\u001b[0m: name 'history' is not defined"
     ]
    }
   ],
   "source": [
    "import matplotlib.pyplot as plt\n",
    "acc = history.history['accuracy']\n",
    "val_acc = history.history['val_accuracy']\n",
    "loss = history.history['loss']\n",
    "val_loss = history.history['val_loss']\n",
    "epochs = range(1, len(acc) + 1)\n",
    "plt.plot(epochs, acc, 'bo', label='Training acc')\n",
    "plt.plot(epochs, val_acc, 'b', label='Validation acc')\n",
    "plt.title('Training and validation accuracy')\n",
    "plt.legend()\n",
    "plt.figure()\n",
    "plt.plot(epochs, loss, 'bo', label='Training loss')\n",
    "plt.plot(epochs, val_loss, 'b', label='Validation loss')\n",
    "plt.title('Training and validation loss')\n",
    "plt.legend()\n",
    "plt.show()"
   ]
  },
  {
   "cell_type": "code",
   "execution_count": null,
   "id": "0cebe11c",
   "metadata": {},
   "outputs": [],
   "source": []
  }
 ],
 "metadata": {
  "kernelspec": {
   "display_name": "Python 3 (ipykernel)",
   "language": "python",
   "name": "python3"
  },
  "language_info": {
   "codemirror_mode": {
    "name": "ipython",
    "version": 3
   },
   "file_extension": ".py",
   "mimetype": "text/x-python",
   "name": "python",
   "nbconvert_exporter": "python",
   "pygments_lexer": "ipython3",
   "version": "3.9.7"
  }
 },
 "nbformat": 4,
 "nbformat_minor": 5
}
