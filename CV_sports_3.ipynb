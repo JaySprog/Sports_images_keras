{
 "cells": [
  {
   "cell_type": "markdown",
   "id": "33a8d3b7",
   "metadata": {},
   "source": [
    "It seems there is underfitting\n",
    "Let's remove dropout rate and some changes in augmentation"
   ]
  },
  {
   "cell_type": "code",
   "execution_count": 22,
   "id": "14023fc6",
   "metadata": {},
   "outputs": [
    {
     "name": "stdout",
     "output_type": "stream",
     "text": [
      "Model: \"sequential_3\"\n",
      "_________________________________________________________________\n",
      " Layer (type)                Output Shape              Param #   \n",
      "=================================================================\n",
      " conv2d_12 (Conv2D)          (None, 222, 222, 32)      896       \n",
      "                                                                 \n",
      " max_pooling2d_12 (MaxPoolin  (None, 111, 111, 32)     0         \n",
      " g2D)                                                            \n",
      "                                                                 \n",
      " conv2d_13 (Conv2D)          (None, 109, 109, 64)      18496     \n",
      "                                                                 \n",
      " max_pooling2d_13 (MaxPoolin  (None, 54, 54, 64)       0         \n",
      " g2D)                                                            \n",
      "                                                                 \n",
      " conv2d_14 (Conv2D)          (None, 52, 52, 128)       73856     \n",
      "                                                                 \n",
      " max_pooling2d_14 (MaxPoolin  (None, 26, 26, 128)      0         \n",
      " g2D)                                                            \n",
      "                                                                 \n",
      " conv2d_15 (Conv2D)          (None, 24, 24, 256)       295168    \n",
      "                                                                 \n",
      " max_pooling2d_15 (MaxPoolin  (None, 12, 12, 256)      0         \n",
      " g2D)                                                            \n",
      "                                                                 \n",
      " flatten_3 (Flatten)         (None, 36864)             0         \n",
      "                                                                 \n",
      " dense_6 (Dense)             (None, 512)               18874880  \n",
      "                                                                 \n",
      " dense_7 (Dense)             (None, 100)               51300     \n",
      "                                                                 \n",
      "=================================================================\n",
      "Total params: 19,314,596\n",
      "Trainable params: 19,314,596\n",
      "Non-trainable params: 0\n",
      "_________________________________________________________________\n"
     ]
    }
   ],
   "source": [
    "from keras import layers\n",
    "from keras import models\n",
    "model = models.Sequential()\n",
    "model.add(layers.Conv2D(32, (3, 3), activation='relu',input_shape=(224, 224, 3)))\n",
    "model.add(layers.MaxPooling2D((2, 2)))\n",
    "model.add(layers.Conv2D(64, (3, 3), activation='relu'))\n",
    "model.add(layers.MaxPooling2D((2, 2)))\n",
    "model.add(layers.Conv2D(128, (3, 3), activation='relu'))\n",
    "model.add(layers.MaxPooling2D((2, 2)))\n",
    "model.add(layers.Conv2D(256, (3, 3), activation='relu'))\n",
    "model.add(layers.MaxPooling2D((2, 2)))\n",
    "model.add(layers.Flatten())\n",
    "model.add(layers.Dense(512, activation='relu'))\n",
    "model.add(layers.Dense(100, activation='softmax'))\n",
    "model.summary()"
   ]
  },
  {
   "cell_type": "code",
   "execution_count": 23,
   "id": "09a66758",
   "metadata": {},
   "outputs": [],
   "source": [
    "model.compile(loss='categorical_crossentropy',optimizer='rmsprop', metrics=['accuracy'])"
   ]
  },
  {
   "cell_type": "code",
   "execution_count": 24,
   "id": "dc7679cd",
   "metadata": {},
   "outputs": [],
   "source": [
    "from keras.preprocessing.image import ImageDataGenerator\n",
    "a = ImageDataGenerator(\n",
    "    rescale=1./255,\n",
    "    rotation_range=20,\n",
    "    width_shift_range=0.1,\n",
    "    height_shift_range=0.1,\n",
    "    shear_range=0.1,\n",
    "    zoom_range=0.1,\n",
    "    horizontal_flip=True,)"
   ]
  },
  {
   "cell_type": "code",
   "execution_count": 25,
   "id": "a03137a0",
   "metadata": {},
   "outputs": [
    {
     "name": "stdout",
     "output_type": "stream",
     "text": [
      "Found 13572 images belonging to 100 classes.\n"
     ]
    }
   ],
   "source": [
    "train=a.flow_from_directory(directory='/Users/vijay/Downloads/sports/train',\n",
    "                           target_size=(224, 224), batch_size=10, class_mode='categorical')"
   ]
  },
  {
   "cell_type": "code",
   "execution_count": 26,
   "id": "94cb7a65",
   "metadata": {},
   "outputs": [
    {
     "name": "stdout",
     "output_type": "stream",
     "text": [
      "data batch shape: (10, 224, 224, 3)\n",
      "labels batch shape: (10, 100)\n"
     ]
    }
   ],
   "source": [
    "for data_batch, labels_batch in train:\n",
    "    print('data batch shape:', data_batch.shape)\n",
    "    print('labels batch shape:', labels_batch.shape)\n",
    "    break"
   ]
  },
  {
   "cell_type": "code",
   "execution_count": 27,
   "id": "f81f7ad5",
   "metadata": {},
   "outputs": [],
   "source": [
    "valid_datagen = ImageDataGenerator(rescale=1./255)"
   ]
  },
  {
   "cell_type": "code",
   "execution_count": 28,
   "id": "45e1416d",
   "metadata": {},
   "outputs": [
    {
     "name": "stdout",
     "output_type": "stream",
     "text": [
      "Found 500 images belonging to 100 classes.\n"
     ]
    }
   ],
   "source": [
    "valid=valid_datagen.flow_from_directory(directory='/Users/vijay/Downloads/sports/valid',\n",
    "                           target_size=(224, 224), batch_size=10, class_mode='categorical')"
   ]
  },
  {
   "cell_type": "code",
   "execution_count": 29,
   "id": "9cea52eb",
   "metadata": {},
   "outputs": [
    {
     "name": "stdout",
     "output_type": "stream",
     "text": [
      "data batch shape: (10, 224, 224, 3)\n",
      "labels batch shape: (10, 100)\n"
     ]
    }
   ],
   "source": [
    "for data_batch, labels_batch in valid:\n",
    "    print('data batch shape:', data_batch.shape)\n",
    "    print('labels batch shape:', labels_batch.shape)\n",
    "    break"
   ]
  },
  {
   "cell_type": "code",
   "execution_count": 30,
   "id": "b1f3ca3f",
   "metadata": {},
   "outputs": [
    {
     "name": "stdout",
     "output_type": "stream",
     "text": [
      "Epoch 1/100\n",
      "150/150 [==============================] - 91s 601ms/step - loss: 5.0651 - accuracy: 0.0173 - val_loss: 4.5865 - val_accuracy: 0.0140\n",
      "Epoch 2/100\n",
      "150/150 [==============================] - 150s 999ms/step - loss: 4.5550 - accuracy: 0.0248 - val_loss: 4.4460 - val_accuracy: 0.0320\n",
      "Epoch 3/100\n",
      "150/150 [==============================] - 146s 968ms/step - loss: 4.4164 - accuracy: 0.0433 - val_loss: 4.2684 - val_accuracy: 0.0480\n",
      "Epoch 4/100\n",
      "150/150 [==============================] - 147s 978ms/step - loss: 4.1696 - accuracy: 0.0713 - val_loss: 4.1927 - val_accuracy: 0.0760\n",
      "Epoch 5/100\n",
      "150/150 [==============================] - 148s 983ms/step - loss: 3.9656 - accuracy: 0.0933 - val_loss: 3.8919 - val_accuracy: 0.1160\n",
      "Epoch 6/100\n",
      "150/150 [==============================] - 152s 1s/step - loss: 3.7901 - accuracy: 0.1166 - val_loss: 3.7300 - val_accuracy: 0.1640\n",
      "Epoch 7/100\n",
      "150/150 [==============================] - 151s 1s/step - loss: 3.5768 - accuracy: 0.1560 - val_loss: 4.7654 - val_accuracy: 0.0760\n",
      "Epoch 8/100\n",
      "150/150 [==============================] - 145s 963ms/step - loss: 3.4649 - accuracy: 0.1696 - val_loss: 3.5821 - val_accuracy: 0.1780\n",
      "Epoch 9/100\n",
      "150/150 [==============================] - 143s 951ms/step - loss: 3.3664 - accuracy: 0.2027 - val_loss: 3.1277 - val_accuracy: 0.2200\n",
      "Epoch 10/100\n",
      "150/150 [==============================] - 146s 967ms/step - loss: 3.2855 - accuracy: 0.2007 - val_loss: 3.0519 - val_accuracy: 0.2600\n",
      "Epoch 11/100\n",
      "150/150 [==============================] - 145s 964ms/step - loss: 3.1758 - accuracy: 0.2387 - val_loss: 3.1817 - val_accuracy: 0.2660\n",
      "Epoch 12/100\n",
      "150/150 [==============================] - 158s 1s/step - loss: 3.1622 - accuracy: 0.2253 - val_loss: 3.0554 - val_accuracy: 0.2600\n",
      "Epoch 13/100\n",
      "150/150 [==============================] - 133s 888ms/step - loss: 3.0512 - accuracy: 0.2633 - val_loss: 2.8826 - val_accuracy: 0.3060\n",
      "Epoch 14/100\n",
      "150/150 [==============================] - 135s 900ms/step - loss: 2.9247 - accuracy: 0.2713 - val_loss: 2.8060 - val_accuracy: 0.3120\n",
      "Epoch 15/100\n",
      "150/150 [==============================] - 145s 961ms/step - loss: 2.8805 - accuracy: 0.2760 - val_loss: 3.2035 - val_accuracy: 0.2760\n",
      "Epoch 16/100\n",
      "150/150 [==============================] - 146s 975ms/step - loss: 2.8677 - accuracy: 0.3033 - val_loss: 2.8210 - val_accuracy: 0.3080\n",
      "Epoch 17/100\n",
      "150/150 [==============================] - 166s 1s/step - loss: 2.8655 - accuracy: 0.2907 - val_loss: 2.8562 - val_accuracy: 0.3240\n",
      "Epoch 18/100\n",
      "150/150 [==============================] - 141s 937ms/step - loss: 2.8204 - accuracy: 0.3060 - val_loss: 2.5864 - val_accuracy: 0.3680\n",
      "Epoch 19/100\n",
      "150/150 [==============================] - 140s 931ms/step - loss: 2.7522 - accuracy: 0.3100 - val_loss: 2.7899 - val_accuracy: 0.3420\n",
      "Epoch 20/100\n",
      "150/150 [==============================] - 150s 996ms/step - loss: 2.7074 - accuracy: 0.3267 - val_loss: 2.9271 - val_accuracy: 0.3180\n",
      "Epoch 21/100\n",
      "150/150 [==============================] - 152s 1s/step - loss: 2.6526 - accuracy: 0.3360 - val_loss: 2.8279 - val_accuracy: 0.3600\n",
      "Epoch 22/100\n",
      "150/150 [==============================] - 151s 1s/step - loss: 2.6693 - accuracy: 0.3220 - val_loss: 2.6884 - val_accuracy: 0.3420\n",
      "Epoch 23/100\n",
      "150/150 [==============================] - 153s 1s/step - loss: 2.5479 - accuracy: 0.3720 - val_loss: 2.3966 - val_accuracy: 0.3900\n",
      "Epoch 24/100\n",
      "150/150 [==============================] - 148s 979ms/step - loss: 2.6051 - accuracy: 0.3480 - val_loss: 2.4585 - val_accuracy: 0.3740\n",
      "Epoch 25/100\n",
      "150/150 [==============================] - 149s 990ms/step - loss: 2.6634 - accuracy: 0.3367 - val_loss: 2.4360 - val_accuracy: 0.3900\n",
      "Epoch 26/100\n",
      "150/150 [==============================] - 144s 961ms/step - loss: 2.5025 - accuracy: 0.3567 - val_loss: 2.4486 - val_accuracy: 0.3640\n",
      "Epoch 27/100\n",
      "150/150 [==============================] - 146s 973ms/step - loss: 2.5042 - accuracy: 0.3753 - val_loss: 2.4271 - val_accuracy: 0.4280\n",
      "Epoch 28/100\n",
      "150/150 [==============================] - 147s 981ms/step - loss: 2.4538 - accuracy: 0.3587 - val_loss: 2.6049 - val_accuracy: 0.3880\n",
      "Epoch 29/100\n",
      "150/150 [==============================] - 161s 1s/step - loss: 2.5184 - accuracy: 0.3680 - val_loss: 2.3185 - val_accuracy: 0.4180\n",
      "Epoch 30/100\n",
      "150/150 [==============================] - 144s 960ms/step - loss: 2.4456 - accuracy: 0.3807 - val_loss: 2.7197 - val_accuracy: 0.3880\n",
      "Epoch 31/100\n",
      "150/150 [==============================] - 147s 979ms/step - loss: 2.4078 - accuracy: 0.3860 - val_loss: 2.5622 - val_accuracy: 0.3940\n",
      "Epoch 32/100\n",
      "150/150 [==============================] - 148s 985ms/step - loss: 2.3936 - accuracy: 0.3953 - val_loss: 2.5309 - val_accuracy: 0.3740\n",
      "Epoch 33/100\n",
      "150/150 [==============================] - 152s 1s/step - loss: 2.5120 - accuracy: 0.3700 - val_loss: 2.4787 - val_accuracy: 0.3860\n",
      "Epoch 34/100\n",
      "150/150 [==============================] - 151s 1s/step - loss: 2.4318 - accuracy: 0.3747 - val_loss: 2.4365 - val_accuracy: 0.4040\n",
      "Epoch 35/100\n",
      "150/150 [==============================] - 163s 1s/step - loss: 2.4924 - accuracy: 0.3787 - val_loss: 2.6448 - val_accuracy: 0.3960\n",
      "Epoch 36/100\n",
      "150/150 [==============================] - 152s 1s/step - loss: 2.4443 - accuracy: 0.3833 - val_loss: 2.3806 - val_accuracy: 0.4300\n",
      "Epoch 37/100\n",
      "150/150 [==============================] - 149s 993ms/step - loss: 2.4235 - accuracy: 0.3934 - val_loss: 2.5134 - val_accuracy: 0.3940\n",
      "Epoch 38/100\n",
      "150/150 [==============================] - 147s 974ms/step - loss: 2.4349 - accuracy: 0.3800 - val_loss: 2.5536 - val_accuracy: 0.4040\n",
      "Epoch 39/100\n",
      "150/150 [==============================] - 146s 969ms/step - loss: 2.3813 - accuracy: 0.4047 - val_loss: 2.2195 - val_accuracy: 0.4560\n",
      "Epoch 40/100\n",
      "150/150 [==============================] - 145s 966ms/step - loss: 2.3844 - accuracy: 0.4189 - val_loss: 2.3045 - val_accuracy: 0.4320\n",
      "Epoch 41/100\n",
      "150/150 [==============================] - 138s 919ms/step - loss: 2.3244 - accuracy: 0.4047 - val_loss: 2.6177 - val_accuracy: 0.4040\n",
      "Epoch 42/100\n",
      "150/150 [==============================] - 143s 953ms/step - loss: 2.4035 - accuracy: 0.3873 - val_loss: 2.4250 - val_accuracy: 0.4300\n",
      "Epoch 43/100\n",
      "150/150 [==============================] - 144s 961ms/step - loss: 2.3299 - accuracy: 0.4087 - val_loss: 2.3405 - val_accuracy: 0.4300\n",
      "Epoch 44/100\n",
      "150/150 [==============================] - 153s 1s/step - loss: 2.3629 - accuracy: 0.4067 - val_loss: 2.5240 - val_accuracy: 0.3560\n",
      "Epoch 45/100\n",
      "150/150 [==============================] - 131s 874ms/step - loss: 2.3502 - accuracy: 0.4147 - val_loss: 2.6180 - val_accuracy: 0.4000\n",
      "Epoch 46/100\n",
      "150/150 [==============================] - 161s 1s/step - loss: 2.3772 - accuracy: 0.3940 - val_loss: 2.5480 - val_accuracy: 0.4120\n",
      "Epoch 47/100\n",
      "150/150 [==============================] - 154s 1s/step - loss: 2.3424 - accuracy: 0.4333 - val_loss: 2.2295 - val_accuracy: 0.4380\n",
      "Epoch 48/100\n",
      "150/150 [==============================] - 137s 912ms/step - loss: 2.3997 - accuracy: 0.4020 - val_loss: 2.1534 - val_accuracy: 0.4440\n",
      "Epoch 49/100\n",
      "150/150 [==============================] - 142s 943ms/step - loss: 2.3575 - accuracy: 0.4073 - val_loss: 2.3806 - val_accuracy: 0.4160\n",
      "Epoch 50/100\n",
      "150/150 [==============================] - 163s 1s/step - loss: 2.3504 - accuracy: 0.3947 - val_loss: 2.2263 - val_accuracy: 0.4360\n",
      "Epoch 51/100\n",
      "150/150 [==============================] - 156s 1s/step - loss: 2.2993 - accuracy: 0.4200 - val_loss: 2.2555 - val_accuracy: 0.4360\n",
      "Epoch 52/100\n",
      "150/150 [==============================] - 160s 1s/step - loss: 2.4001 - accuracy: 0.3980 - val_loss: 2.5146 - val_accuracy: 0.4300\n",
      "Epoch 53/100\n",
      "150/150 [==============================] - 181s 1s/step - loss: 2.3112 - accuracy: 0.4313 - val_loss: 2.3824 - val_accuracy: 0.4060\n",
      "Epoch 54/100\n",
      "150/150 [==============================] - 187s 1s/step - loss: 2.3551 - accuracy: 0.4273 - val_loss: 2.1271 - val_accuracy: 0.4640\n",
      "Epoch 55/100\n",
      "150/150 [==============================] - 190s 1s/step - loss: 2.4027 - accuracy: 0.4107 - val_loss: 2.7632 - val_accuracy: 0.4120\n",
      "Epoch 56/100\n",
      "150/150 [==============================] - 197s 1s/step - loss: 2.3984 - accuracy: 0.3928 - val_loss: 2.7966 - val_accuracy: 0.4420\n",
      "Epoch 57/100\n",
      "150/150 [==============================] - 190s 1s/step - loss: 2.3321 - accuracy: 0.4082 - val_loss: 2.3495 - val_accuracy: 0.4100\n",
      "Epoch 58/100\n",
      "150/150 [==============================] - 186s 1s/step - loss: 2.3868 - accuracy: 0.4153 - val_loss: 2.4174 - val_accuracy: 0.4660\n",
      "Epoch 59/100\n",
      "150/150 [==============================] - 184s 1s/step - loss: 2.3564 - accuracy: 0.4093 - val_loss: 2.2142 - val_accuracy: 0.4520\n",
      "Epoch 60/100\n",
      "150/150 [==============================] - 183s 1s/step - loss: 2.3098 - accuracy: 0.4227 - val_loss: 2.5584 - val_accuracy: 0.4680\n",
      "Epoch 61/100\n",
      "150/150 [==============================] - 185s 1s/step - loss: 2.3434 - accuracy: 0.4433 - val_loss: 2.4764 - val_accuracy: 0.3940\n",
      "Epoch 62/100\n",
      "150/150 [==============================] - 185s 1s/step - loss: 2.3055 - accuracy: 0.4347 - val_loss: 2.3373 - val_accuracy: 0.4480\n",
      "Epoch 63/100\n",
      "150/150 [==============================] - 183s 1s/step - loss: 2.2669 - accuracy: 0.4207 - val_loss: 2.7014 - val_accuracy: 0.3940\n",
      "Epoch 64/100\n",
      "150/150 [==============================] - 183s 1s/step - loss: 2.3225 - accuracy: 0.4147 - val_loss: 2.4490 - val_accuracy: 0.3980\n",
      "Epoch 65/100\n",
      "150/150 [==============================] - 182s 1s/step - loss: 2.3515 - accuracy: 0.4147 - val_loss: 2.1655 - val_accuracy: 0.4780\n",
      "Epoch 66/100\n",
      "150/150 [==============================] - 184s 1s/step - loss: 2.3038 - accuracy: 0.4182 - val_loss: 3.5666 - val_accuracy: 0.3780\n",
      "Epoch 67/100\n",
      "150/150 [==============================] - 183s 1s/step - loss: 2.3939 - accuracy: 0.4013 - val_loss: 2.6795 - val_accuracy: 0.4000\n",
      "Epoch 68/100\n",
      "150/150 [==============================] - 181s 1s/step - loss: 2.3531 - accuracy: 0.4153 - val_loss: 2.5479 - val_accuracy: 0.4580\n",
      "Epoch 69/100\n",
      "150/150 [==============================] - 182s 1s/step - loss: 2.4052 - accuracy: 0.3853 - val_loss: 2.7777 - val_accuracy: 0.4160\n",
      "Epoch 70/100\n",
      "150/150 [==============================] - 181s 1s/step - loss: 2.4111 - accuracy: 0.4140 - val_loss: 2.1925 - val_accuracy: 0.4500\n",
      "Epoch 71/100\n",
      "150/150 [==============================] - 182s 1s/step - loss: 2.4176 - accuracy: 0.4062 - val_loss: 2.0847 - val_accuracy: 0.4680\n",
      "Epoch 72/100\n",
      "150/150 [==============================] - 179s 1s/step - loss: 2.2996 - accuracy: 0.4453 - val_loss: 2.3029 - val_accuracy: 0.4440\n",
      "Epoch 73/100\n",
      "150/150 [==============================] - 183s 1s/step - loss: 2.4132 - accuracy: 0.4040 - val_loss: 2.1803 - val_accuracy: 0.4380\n",
      "Epoch 74/100\n",
      "150/150 [==============================] - 179s 1s/step - loss: 2.3115 - accuracy: 0.4377 - val_loss: 2.5827 - val_accuracy: 0.4420\n",
      "Epoch 75/100\n",
      "150/150 [==============================] - 181s 1s/step - loss: 2.4832 - accuracy: 0.3847 - val_loss: 2.6440 - val_accuracy: 0.4260\n",
      "Epoch 76/100\n",
      "150/150 [==============================] - 180s 1s/step - loss: 2.3434 - accuracy: 0.4113 - val_loss: 2.3528 - val_accuracy: 0.4260\n",
      "Epoch 77/100\n",
      "150/150 [==============================] - 180s 1s/step - loss: 2.3148 - accuracy: 0.4267 - val_loss: 2.7647 - val_accuracy: 0.4560\n",
      "Epoch 78/100\n",
      "150/150 [==============================] - 181s 1s/step - loss: 2.4445 - accuracy: 0.3807 - val_loss: 2.2830 - val_accuracy: 0.4440\n",
      "Epoch 79/100\n",
      "150/150 [==============================] - 184s 1s/step - loss: 2.5502 - accuracy: 0.3887 - val_loss: 2.9058 - val_accuracy: 0.3620\n",
      "Epoch 80/100\n",
      "150/150 [==============================] - 181s 1s/step - loss: 2.4070 - accuracy: 0.4040 - val_loss: 3.8028 - val_accuracy: 0.3520\n",
      "Epoch 81/100\n",
      "150/150 [==============================] - 182s 1s/step - loss: 2.4453 - accuracy: 0.3953 - val_loss: 2.3563 - val_accuracy: 0.4320\n",
      "Epoch 82/100\n",
      "150/150 [==============================] - 189s 1s/step - loss: 2.5450 - accuracy: 0.4007 - val_loss: 2.6279 - val_accuracy: 0.4180\n",
      "Epoch 83/100\n",
      "150/150 [==============================] - 142s 944ms/step - loss: 2.4038 - accuracy: 0.4187 - val_loss: 2.5632 - val_accuracy: 0.4500\n",
      "Epoch 84/100\n",
      "150/150 [==============================] - 136s 907ms/step - loss: 2.4124 - accuracy: 0.4007 - val_loss: 3.6977 - val_accuracy: 0.3380\n",
      "Epoch 85/100\n",
      "150/150 [==============================] - 135s 900ms/step - loss: 2.5381 - accuracy: 0.3880 - val_loss: 2.2106 - val_accuracy: 0.4320\n",
      "Epoch 86/100\n",
      "150/150 [==============================] - 142s 944ms/step - loss: 2.4599 - accuracy: 0.4107 - val_loss: 2.5222 - val_accuracy: 0.3840\n",
      "Epoch 87/100\n",
      "150/150 [==============================] - 149s 992ms/step - loss: 2.4512 - accuracy: 0.4100 - val_loss: 3.2704 - val_accuracy: 0.3740\n",
      "Epoch 88/100\n",
      "150/150 [==============================] - 132s 877ms/step - loss: 2.5409 - accuracy: 0.3907 - val_loss: 2.3742 - val_accuracy: 0.4460\n",
      "Epoch 89/100\n",
      "150/150 [==============================] - 131s 872ms/step - loss: 2.4618 - accuracy: 0.4007 - val_loss: 2.5778 - val_accuracy: 0.4520\n",
      "Epoch 90/100\n",
      "150/150 [==============================] - 131s 875ms/step - loss: 2.5528 - accuracy: 0.3813 - val_loss: 2.6902 - val_accuracy: 0.4260\n",
      "Epoch 91/100\n",
      "150/150 [==============================] - 133s 883ms/step - loss: 2.4940 - accuracy: 0.3933 - val_loss: 2.5771 - val_accuracy: 0.4280\n",
      "Epoch 92/100\n",
      "150/150 [==============================] - 131s 874ms/step - loss: 2.5153 - accuracy: 0.3853 - val_loss: 2.7209 - val_accuracy: 0.4140\n",
      "Epoch 93/100\n",
      "150/150 [==============================] - 131s 875ms/step - loss: 2.4203 - accuracy: 0.4013 - val_loss: 2.4900 - val_accuracy: 0.4400\n",
      "Epoch 94/100\n",
      "150/150 [==============================] - 134s 889ms/step - loss: 2.6029 - accuracy: 0.3620 - val_loss: 3.1873 - val_accuracy: 0.2880\n",
      "Epoch 95/100\n",
      "150/150 [==============================] - 146s 973ms/step - loss: 2.5960 - accuracy: 0.3827 - val_loss: 2.7895 - val_accuracy: 0.3660\n",
      "Epoch 96/100\n",
      "150/150 [==============================] - 156s 1s/step - loss: 2.5209 - accuracy: 0.3700 - val_loss: 2.5024 - val_accuracy: 0.4540\n",
      "Epoch 97/100\n",
      "150/150 [==============================] - 130s 865ms/step - loss: 2.5640 - accuracy: 0.4020 - val_loss: 2.7779 - val_accuracy: 0.4160\n",
      "Epoch 98/100\n",
      "150/150 [==============================] - 143s 952ms/step - loss: 2.5383 - accuracy: 0.3853 - val_loss: 2.5639 - val_accuracy: 0.4460\n",
      "Epoch 99/100\n",
      "150/150 [==============================] - 134s 892ms/step - loss: 2.5657 - accuracy: 0.3753 - val_loss: 2.7243 - val_accuracy: 0.4140\n",
      "Epoch 100/100\n",
      "150/150 [==============================] - 130s 868ms/step - loss: 2.6995 - accuracy: 0.3500 - val_loss: 2.9063 - val_accuracy: 0.3380\n"
     ]
    }
   ],
   "source": [
    "history = model.fit(train,steps_per_epoch=150,epochs=100,validation_data=valid)"
   ]
  },
  {
   "cell_type": "code",
   "execution_count": 31,
   "id": "539465f4",
   "metadata": {},
   "outputs": [
    {
     "data": {
      "image/png": "[encoded data removed]",
      "text/plain": [
       "<Figure size 432x288 with 1 Axes>"
      ]
     },
     "metadata": {
      "needs_background": "light"
     },
     "output_type": "display_data"
    },
    {
     "data": {
      "image/png": "[encoded data removed]",
      "text/plain": [
       "<Figure size 432x288 with 1 Axes>"
      ]
     },
     "metadata": {
      "needs_background": "light"
     },
     "output_type": "display_data"
    }
   ],
   "source": [
    "import matplotlib.pyplot as plt\n",
    "acc = history.history['accuracy']\n",
    "val_acc = history.history['val_accuracy']\n",
    "loss = history.history['loss']\n",
    "val_loss = history.history['val_loss']\n",
    "epochs = range(1, len(acc) + 1)\n",
    "plt.plot(epochs, acc, 'bo', label='Training acc')\n",
    "plt.plot(epochs, val_acc, 'b', label='Validation acc')\n",
    "plt.title('Training and validation accuracy')\n",
    "plt.legend()\n",
    "plt.figure()\n",
    "plt.plot(epochs, loss, 'bo', label='Training loss')\n",
    "plt.plot(epochs, val_loss, 'b', label='Validation loss')\n",
    "plt.title('Training and validation loss')\n",
    "plt.legend()\n",
    "plt.show()"
   ]
  },
  {
   "cell_type": "code",
   "execution_count": null,
   "id": "2381d5e3",
   "metadata": {},
   "outputs": [],
   "source": []
  }
 ],
 "metadata": {
  "kernelspec": {
   "display_name": "Python 3 (ipykernel)",
   "language": "python",
   "name": "python3"
  },
  "language_info": {
   "codemirror_mode": {
    "name": "ipython",
    "version": 3
   },
   "file_extension": ".py",
   "mimetype": "text/x-python",
   "name": "python",
   "nbconvert_exporter": "python",
   "pygments_lexer": "ipython3",
   "version": "3.9.7"
  }
 },
 "nbformat": 4,
 "nbformat_minor": 5
}
