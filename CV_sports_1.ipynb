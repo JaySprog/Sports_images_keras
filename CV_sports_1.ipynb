{
 "cells": [
  {
   "cell_type": "markdown",
   "id": "4c2cdd2c",
   "metadata": {},
   "source": [
    "Without any augmentation or regularization"
   ]
  },
  {
   "cell_type": "code",
   "execution_count": 24,
   "id": "c05a0433",
   "metadata": {},
   "outputs": [
    {
     "name": "stdout",
     "output_type": "stream",
     "text": [
      "Found 13572 images belonging to 100 classes.\n"
     ]
    }
   ],
   "source": [
    "from keras.preprocessing.image import ImageDataGenerator\n",
    "a=ImageDataGenerator(rescale=1./255)\n",
    "train=a.flow_from_directory(directory='/Users/vijay/Downloads/sports/train',\n",
    "                           target_size=(224, 224), batch_size=10, class_mode='categorical')"
   ]
  },
  {
   "cell_type": "code",
   "execution_count": 25,
   "id": "cc32a4c0",
   "metadata": {},
   "outputs": [
    {
     "name": "stdout",
     "output_type": "stream",
     "text": [
      "data batch shape: (10, 224, 224, 3)\n",
      "labels batch shape: (10, 100)\n"
     ]
    }
   ],
   "source": [
    "for data_batch, labels_batch in train:\n",
    "    print('data batch shape:', data_batch.shape)\n",
    "    print('labels batch shape:', labels_batch.shape)\n",
    "    break"
   ]
  },
  {
   "cell_type": "code",
   "execution_count": 26,
   "id": "b95f586b",
   "metadata": {},
   "outputs": [
    {
     "name": "stdout",
     "output_type": "stream",
     "text": [
      "Found 500 images belonging to 100 classes.\n"
     ]
    }
   ],
   "source": [
    "valid=a.flow_from_directory(directory='/Users/vijay/Downloads/sports/valid',\n",
    "                           target_size=(224, 224), batch_size=10, class_mode='categorical')\n"
   ]
  },
  {
   "cell_type": "code",
   "execution_count": 27,
   "id": "a02bd9f3",
   "metadata": {},
   "outputs": [
    {
     "name": "stdout",
     "output_type": "stream",
     "text": [
      "data batch shape: (10, 224, 224, 3)\n",
      "labels batch shape: (10, 100)\n"
     ]
    }
   ],
   "source": [
    "for data_batch, labels_batch in valid:\n",
    "    print('data batch shape:', data_batch.shape)\n",
    "    print('labels batch shape:', labels_batch.shape)\n",
    "    break"
   ]
  },
  {
   "cell_type": "code",
   "execution_count": 28,
   "id": "b6cee1b1",
   "metadata": {
    "scrolled": true
   },
   "outputs": [
    {
     "name": "stdout",
     "output_type": "stream",
     "text": [
      "Model: \"sequential_4\"\n",
      "_________________________________________________________________\n",
      " Layer (type)                Output Shape              Param #   \n",
      "=================================================================\n",
      " conv2d_16 (Conv2D)          (None, 222, 222, 32)      896       \n",
      "                                                                 \n",
      " max_pooling2d_16 (MaxPoolin  (None, 111, 111, 32)     0         \n",
      " g2D)                                                            \n",
      "                                                                 \n",
      " conv2d_17 (Conv2D)          (None, 109, 109, 64)      18496     \n",
      "                                                                 \n",
      " max_pooling2d_17 (MaxPoolin  (None, 54, 54, 64)       0         \n",
      " g2D)                                                            \n",
      "                                                                 \n",
      " conv2d_18 (Conv2D)          (None, 52, 52, 128)       73856     \n",
      "                                                                 \n",
      " max_pooling2d_18 (MaxPoolin  (None, 26, 26, 128)      0         \n",
      " g2D)                                                            \n",
      "                                                                 \n",
      " conv2d_19 (Conv2D)          (None, 24, 24, 256)       295168    \n",
      "                                                                 \n",
      " max_pooling2d_19 (MaxPoolin  (None, 12, 12, 256)      0         \n",
      " g2D)                                                            \n",
      "                                                                 \n",
      " flatten_4 (Flatten)         (None, 36864)             0         \n",
      "                                                                 \n",
      " dense_8 (Dense)             (None, 512)               18874880  \n",
      "                                                                 \n",
      " dense_9 (Dense)             (None, 100)               51300     \n",
      "                                                                 \n",
      "=================================================================\n",
      "Total params: 19,314,596\n",
      "Trainable params: 19,314,596\n",
      "Non-trainable params: 0\n",
      "_________________________________________________________________\n"
     ]
    }
   ],
   "source": [
    "from keras import layers\n",
    "from keras import models\n",
    "model = models.Sequential()\n",
    "model.add(layers.Conv2D(32, (3, 3), activation='relu',input_shape=(224, 224, 3)))\n",
    "model.add(layers.MaxPooling2D((2, 2)))\n",
    "model.add(layers.Conv2D(64, (3, 3), activation='relu'))\n",
    "model.add(layers.MaxPooling2D((2, 2)))\n",
    "model.add(layers.Conv2D(128, (3, 3), activation='relu'))\n",
    "model.add(layers.MaxPooling2D((2, 2)))\n",
    "model.add(layers.Conv2D(256, (3, 3), activation='relu'))\n",
    "model.add(layers.MaxPooling2D((2, 2)))\n",
    "model.add(layers.Flatten())\n",
    "model.add(layers.Dense(512, activation='relu'))\n",
    "model.add(layers.Dense(100, activation='softmax'))\n",
    "model.summary()"
   ]
  },
  {
   "cell_type": "code",
   "execution_count": 48,
   "id": "daae7d15",
   "metadata": {},
   "outputs": [],
   "source": [
    "model.compile(loss='categorical_crossentropy',optimizer='rmsprop', metrics=['accuracy'])"
   ]
  },
  {
   "cell_type": "code",
   "execution_count": 30,
   "id": "4a6d96c7",
   "metadata": {},
   "outputs": [
    {
     "name": "stdout",
     "output_type": "stream",
     "text": [
      "Epoch 1/60\n",
      "150/150 [==============================] - 135s 900ms/step - loss: 4.6914 - accuracy: 0.0107 - val_loss: 4.5393 - val_accuracy: 0.0160\n",
      "Epoch 2/60\n",
      "150/150 [==============================] - 137s 911ms/step - loss: 4.5277 - accuracy: 0.0267 - val_loss: 4.4156 - val_accuracy: 0.0380\n",
      "Epoch 3/60\n",
      "150/150 [==============================] - 136s 908ms/step - loss: 4.2708 - accuracy: 0.0580 - val_loss: 4.1318 - val_accuracy: 0.0600\n",
      "Epoch 4/60\n",
      "150/150 [==============================] - 138s 917ms/step - loss: 3.9714 - accuracy: 0.0953 - val_loss: 3.8336 - val_accuracy: 0.0960\n",
      "Epoch 5/60\n",
      "150/150 [==============================] - 136s 910ms/step - loss: 3.7427 - accuracy: 0.1400 - val_loss: 3.9235 - val_accuracy: 0.0940\n",
      "Epoch 6/60\n",
      "150/150 [==============================] - 137s 911ms/step - loss: 3.5536 - accuracy: 0.1873 - val_loss: 3.4526 - val_accuracy: 0.1980\n",
      "Epoch 7/60\n",
      "150/150 [==============================] - 159s 1s/step - loss: 3.2490 - accuracy: 0.2320 - val_loss: 3.3525 - val_accuracy: 0.2000\n",
      "Epoch 8/60\n",
      "150/150 [==============================] - 169s 1s/step - loss: 3.1647 - accuracy: 0.2534 - val_loss: 3.1330 - val_accuracy: 0.2620\n",
      "Epoch 9/60\n",
      "150/150 [==============================] - 139s 927ms/step - loss: 2.9421 - accuracy: 0.2873 - val_loss: 2.9663 - val_accuracy: 0.2720\n",
      "Epoch 10/60\n",
      "150/150 [==============================] - 188s 1s/step - loss: 2.7956 - accuracy: 0.3207 - val_loss: 2.9270 - val_accuracy: 0.2560\n",
      "Epoch 11/60\n",
      "150/150 [==============================] - 134s 896ms/step - loss: 2.6340 - accuracy: 0.3540 - val_loss: 2.7017 - val_accuracy: 0.3200\n",
      "Epoch 12/60\n",
      "150/150 [==============================] - 139s 928ms/step - loss: 2.5291 - accuracy: 0.3747 - val_loss: 3.0534 - val_accuracy: 0.2860\n",
      "Epoch 13/60\n",
      "150/150 [==============================] - 139s 923ms/step - loss: 2.3143 - accuracy: 0.4363 - val_loss: 2.5734 - val_accuracy: 0.3760\n",
      "Epoch 14/60\n",
      "150/150 [==============================] - 138s 922ms/step - loss: 2.2254 - accuracy: 0.4607 - val_loss: 2.7245 - val_accuracy: 0.3240\n",
      "Epoch 15/60\n",
      "150/150 [==============================] - 139s 929ms/step - loss: 2.0066 - accuracy: 0.5013 - val_loss: 2.6387 - val_accuracy: 0.3320\n",
      "Epoch 16/60\n",
      "150/150 [==============================] - 140s 935ms/step - loss: 2.0431 - accuracy: 0.5033 - val_loss: 2.3435 - val_accuracy: 0.4140\n",
      "Epoch 17/60\n",
      "150/150 [==============================] - 141s 938ms/step - loss: 1.9003 - accuracy: 0.5420 - val_loss: 2.4277 - val_accuracy: 0.3780\n",
      "Epoch 18/60\n",
      "150/150 [==============================] - 137s 910ms/step - loss: 1.7558 - accuracy: 0.5613 - val_loss: 2.5731 - val_accuracy: 0.4000\n",
      "Epoch 19/60\n",
      "150/150 [==============================] - 144s 963ms/step - loss: 1.7087 - accuracy: 0.5840 - val_loss: 2.5680 - val_accuracy: 0.3960\n",
      "Epoch 20/60\n",
      "150/150 [==============================] - 136s 904ms/step - loss: 1.6176 - accuracy: 0.5873 - val_loss: 2.4010 - val_accuracy: 0.4240\n",
      "Epoch 21/60\n",
      "150/150 [==============================] - 135s 897ms/step - loss: 1.4641 - accuracy: 0.6480 - val_loss: 2.7700 - val_accuracy: 0.3840\n",
      "Epoch 22/60\n",
      "150/150 [==============================] - 135s 898ms/step - loss: 1.4910 - accuracy: 0.6507 - val_loss: 2.3368 - val_accuracy: 0.4360\n",
      "Epoch 23/60\n",
      "150/150 [==============================] - 135s 901ms/step - loss: 1.4216 - accuracy: 0.6540 - val_loss: 2.7779 - val_accuracy: 0.3920\n",
      "Epoch 24/60\n",
      "150/150 [==============================] - 136s 905ms/step - loss: 1.3978 - accuracy: 0.6807 - val_loss: 2.9008 - val_accuracy: 0.4140\n",
      "Epoch 25/60\n",
      "150/150 [==============================] - 139s 928ms/step - loss: 1.2197 - accuracy: 0.6993 - val_loss: 2.8805 - val_accuracy: 0.4080\n",
      "Epoch 26/60\n",
      "150/150 [==============================] - 139s 925ms/step - loss: 1.2063 - accuracy: 0.7000 - val_loss: 2.9793 - val_accuracy: 0.4200\n",
      "Epoch 27/60\n",
      "150/150 [==============================] - 135s 901ms/step - loss: 1.1443 - accuracy: 0.7267 - val_loss: 2.9239 - val_accuracy: 0.3900\n",
      "Epoch 28/60\n",
      "150/150 [==============================] - 137s 916ms/step - loss: 1.1135 - accuracy: 0.7247 - val_loss: 3.7267 - val_accuracy: 0.3100\n",
      "Epoch 29/60\n",
      "150/150 [==============================] - 138s 918ms/step - loss: 0.9872 - accuracy: 0.7633 - val_loss: 3.4685 - val_accuracy: 0.4040\n",
      "Epoch 30/60\n",
      "150/150 [==============================] - 138s 922ms/step - loss: 1.0049 - accuracy: 0.7707 - val_loss: 3.3576 - val_accuracy: 0.3920\n",
      "Epoch 31/60\n",
      "150/150 [==============================] - 130s 868ms/step - loss: 0.9863 - accuracy: 0.7567 - val_loss: 2.7648 - val_accuracy: 0.4440\n",
      "Epoch 32/60\n",
      "150/150 [==============================] - 131s 871ms/step - loss: 0.9218 - accuracy: 0.7780 - val_loss: 2.6693 - val_accuracy: 0.4440\n",
      "Epoch 33/60\n",
      "150/150 [==============================] - 159s 1s/step - loss: 0.8856 - accuracy: 0.7887 - val_loss: 3.0889 - val_accuracy: 0.4320\n",
      "Epoch 34/60\n",
      "150/150 [==============================] - 169s 1s/step - loss: 0.8278 - accuracy: 0.8210 - val_loss: 2.8074 - val_accuracy: 0.4220\n",
      "Epoch 35/60\n",
      "150/150 [==============================] - 150s 1s/step - loss: 0.8748 - accuracy: 0.7967 - val_loss: 3.1487 - val_accuracy: 0.4560\n",
      "Epoch 36/60\n",
      "150/150 [==============================] - 143s 954ms/step - loss: 0.7624 - accuracy: 0.8220 - val_loss: 2.9840 - val_accuracy: 0.4700\n",
      "Epoch 37/60\n",
      "150/150 [==============================] - 124s 826ms/step - loss: 0.7011 - accuracy: 0.8240 - val_loss: 3.8769 - val_accuracy: 0.4280\n",
      "Epoch 38/60\n",
      "150/150 [==============================] - 155s 1s/step - loss: 0.7216 - accuracy: 0.8313 - val_loss: 2.8340 - val_accuracy: 0.4620\n",
      "Epoch 39/60\n",
      "150/150 [==============================] - 156s 1s/step - loss: 0.7554 - accuracy: 0.8087 - val_loss: 2.9625 - val_accuracy: 0.4100\n",
      "Epoch 40/60\n",
      "150/150 [==============================] - 123s 819ms/step - loss: 0.6989 - accuracy: 0.8347 - val_loss: 3.4010 - val_accuracy: 0.3880\n",
      "Epoch 41/60\n",
      "150/150 [==============================] - 135s 902ms/step - loss: 0.6604 - accuracy: 0.8447 - val_loss: 3.1110 - val_accuracy: 0.4320\n",
      "Epoch 42/60\n",
      "150/150 [==============================] - 126s 838ms/step - loss: 0.5761 - accuracy: 0.8653 - val_loss: 3.1170 - val_accuracy: 0.4280\n",
      "Epoch 43/60\n",
      "150/150 [==============================] - 125s 835ms/step - loss: 0.6513 - accuracy: 0.8505 - val_loss: 3.9229 - val_accuracy: 0.4420\n",
      "Epoch 44/60\n",
      "150/150 [==============================] - 142s 948ms/step - loss: 0.5865 - accuracy: 0.8607 - val_loss: 3.6724 - val_accuracy: 0.4360\n",
      "Epoch 45/60\n",
      "150/150 [==============================] - 141s 937ms/step - loss: 0.6121 - accuracy: 0.8592 - val_loss: 3.2398 - val_accuracy: 0.4280\n",
      "Epoch 46/60\n",
      "150/150 [==============================] - 143s 954ms/step - loss: 0.5726 - accuracy: 0.8613 - val_loss: 4.2999 - val_accuracy: 0.4460\n",
      "Epoch 47/60\n",
      "150/150 [==============================] - 167s 1s/step - loss: 0.5299 - accuracy: 0.8787 - val_loss: 4.4478 - val_accuracy: 0.4320\n",
      "Epoch 48/60\n",
      "150/150 [==============================] - 151s 1s/step - loss: 0.5613 - accuracy: 0.8673 - val_loss: 3.9580 - val_accuracy: 0.3920\n",
      "Epoch 49/60\n",
      "150/150 [==============================] - 151s 1s/step - loss: 0.5524 - accuracy: 0.8740 - val_loss: 4.2070 - val_accuracy: 0.3540\n",
      "Epoch 50/60\n",
      "150/150 [==============================] - 155s 1s/step - loss: 0.4569 - accuracy: 0.8907 - val_loss: 3.8820 - val_accuracy: 0.4060\n",
      "Epoch 51/60\n",
      "150/150 [==============================] - 147s 981ms/step - loss: 0.5224 - accuracy: 0.8693 - val_loss: 4.6111 - val_accuracy: 0.4280\n",
      "Epoch 52/60\n",
      "150/150 [==============================] - 138s 923ms/step - loss: 0.4617 - accuracy: 0.9020 - val_loss: 5.1427 - val_accuracy: 0.4220\n",
      "Epoch 53/60\n",
      "150/150 [==============================] - 146s 976ms/step - loss: 0.5073 - accuracy: 0.8833 - val_loss: 5.2959 - val_accuracy: 0.4420\n",
      "Epoch 54/60\n",
      "150/150 [==============================] - 149s 994ms/step - loss: 0.5082 - accuracy: 0.8827 - val_loss: 4.8675 - val_accuracy: 0.4280\n",
      "Epoch 55/60\n",
      "150/150 [==============================] - 162s 1s/step - loss: 0.4462 - accuracy: 0.9013 - val_loss: 4.8758 - val_accuracy: 0.4300\n",
      "Epoch 56/60\n",
      "150/150 [==============================] - 151s 1s/step - loss: 0.4875 - accuracy: 0.8987 - val_loss: 6.0920 - val_accuracy: 0.4220\n",
      "Epoch 57/60\n",
      "150/150 [==============================] - 155s 1s/step - loss: 0.5195 - accuracy: 0.8900 - val_loss: 4.2751 - val_accuracy: 0.4200\n",
      "Epoch 58/60\n",
      "150/150 [==============================] - 156s 1s/step - loss: 0.4881 - accuracy: 0.8987 - val_loss: 5.1668 - val_accuracy: 0.4180\n",
      "Epoch 59/60\n",
      "150/150 [==============================] - 173s 1s/step - loss: 0.4725 - accuracy: 0.9047 - val_loss: 7.6952 - val_accuracy: 0.3740\n",
      "Epoch 60/60\n",
      "150/150 [==============================] - 181s 1s/step - loss: 0.4291 - accuracy: 0.9020 - val_loss: 5.0217 - val_accuracy: 0.4240\n"
     ]
    }
   ],
   "source": [
    "history = model.fit(train,steps_per_epoch=150,epochs=60,validation_data=valid)\n"
   ]
  },
  {
   "cell_type": "code",
   "execution_count": 35,
   "id": "c4af2bc5",
   "metadata": {},
   "outputs": [
    {
     "data": {
      "image/png": "[encoded data removed]",
      "text/plain": [
       "<Figure size 432x288 with 1 Axes>"
      ]
     },
     "metadata": {
      "needs_background": "light"
     },
     "output_type": "display_data"
    },
    {
     "data": {
      "image/png": "[encoded data removed]",
      "text/plain": [
       "<Figure size 432x288 with 1 Axes>"
      ]
     },
     "metadata": {
      "needs_background": "light"
     },
     "output_type": "display_data"
    }
   ],
   "source": [
    "import matplotlib.pyplot as plt\n",
    "acc = history.history['accuracy']\n",
    "val_acc = history.history['val_accuracy']\n",
    "loss = history.history['loss']\n",
    "val_loss = history.history['val_loss']\n",
    "epochs = range(1, len(acc) + 1)\n",
    "plt.plot(epochs, acc, 'bo', label='Training acc')\n",
    "plt.plot(epochs, val_acc, 'b', label='Validation acc')\n",
    "plt.title('Training and validation accuracy')\n",
    "plt.legend()\n",
    "plt.figure()\n",
    "plt.plot(epochs, loss, 'bo', label='Training loss')\n",
    "plt.plot(epochs, val_loss, 'b', label='Validation loss')\n",
    "plt.title('Training and validation loss')\n",
    "plt.legend()\n",
    "plt.show()"
   ]
  },
  {
   "cell_type": "markdown",
   "id": "5c0a81bb",
   "metadata": {},
   "source": [
    " So validation accuracy stalls at 40 percentage \n",
    " Let's try with augmentation and regularization"
   ]
  }
 ],
 "metadata": {
  "kernelspec": {
   "display_name": "Python 3 (ipykernel)",
   "language": "python",
   "name": "python3"
  },
  "language_info": {
   "codemirror_mode": {
    "name": "ipython",
    "version": 3
   },
   "file_extension": ".py",
   "mimetype": "text/x-python",
   "name": "python",
   "nbconvert_exporter": "python",
   "pygments_lexer": "ipython3",
   "version": "3.9.7"
  }
 },
 "nbformat": 4,
 "nbformat_minor": 5
}
