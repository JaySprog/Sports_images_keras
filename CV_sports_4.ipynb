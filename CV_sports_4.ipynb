{
 "cells": [
  {
   "cell_type": "markdown",
   "id": "e08b7ffc",
   "metadata": {},
   "source": [
    "Pretrained convnet"
   ]
  },
  {
   "cell_type": "code",
   "execution_count": 199,
   "id": "4588bab5",
   "metadata": {},
   "outputs": [
    {
     "name": "stdout",
     "output_type": "stream",
     "text": [
      "Model: \"vgg16\"\n",
      "_________________________________________________________________\n",
      " Layer (type)                Output Shape              Param #   \n",
      "=================================================================\n",
      " input_20 (InputLayer)       [(None, 224, 224, 3)]     0         \n",
      "                                                                 \n",
      " block1_conv1 (Conv2D)       (None, 224, 224, 64)      1792      \n",
      "                                                                 \n",
      " block1_conv2 (Conv2D)       (None, 224, 224, 64)      36928     \n",
      "                                                                 \n",
      " block1_pool (MaxPooling2D)  (None, 112, 112, 64)      0         \n",
      "                                                                 \n",
      " block2_conv1 (Conv2D)       (None, 112, 112, 128)     73856     \n",
      "                                                                 \n",
      " block2_conv2 (Conv2D)       (None, 112, 112, 128)     147584    \n",
      "                                                                 \n",
      " block2_pool (MaxPooling2D)  (None, 56, 56, 128)       0         \n",
      "                                                                 \n",
      " block3_conv1 (Conv2D)       (None, 56, 56, 256)       295168    \n",
      "                                                                 \n",
      " block3_conv2 (Conv2D)       (None, 56, 56, 256)       590080    \n",
      "                                                                 \n",
      " block3_conv3 (Conv2D)       (None, 56, 56, 256)       590080    \n",
      "                                                                 \n",
      " block3_pool (MaxPooling2D)  (None, 28, 28, 256)       0         \n",
      "                                                                 \n",
      " block4_conv1 (Conv2D)       (None, 28, 28, 512)       1180160   \n",
      "                                                                 \n",
      " block4_conv2 (Conv2D)       (None, 28, 28, 512)       2359808   \n",
      "                                                                 \n",
      " block4_conv3 (Conv2D)       (None, 28, 28, 512)       2359808   \n",
      "                                                                 \n",
      " block4_pool (MaxPooling2D)  (None, 14, 14, 512)       0         \n",
      "                                                                 \n",
      " block5_conv1 (Conv2D)       (None, 14, 14, 512)       2359808   \n",
      "                                                                 \n",
      " block5_conv2 (Conv2D)       (None, 14, 14, 512)       2359808   \n",
      "                                                                 \n",
      " block5_conv3 (Conv2D)       (None, 14, 14, 512)       2359808   \n",
      "                                                                 \n",
      " block5_pool (MaxPooling2D)  (None, 7, 7, 512)         0         \n",
      "                                                                 \n",
      "=================================================================\n",
      "Total params: 14,714,688\n",
      "Trainable params: 14,714,688\n",
      "Non-trainable params: 0\n",
      "_________________________________________________________________\n"
     ]
    }
   ],
   "source": [
    "from keras.applications import VGG16\n",
    "conv_base = VGG16(weights='imagenet',\n",
    "                  include_top=False,\n",
    "                  input_shape=(224, 224, 3))\n",
    "conv_base.summary()"
   ]
  },
  {
   "cell_type": "code",
   "execution_count": 200,
   "id": "1c4dd4a6",
   "metadata": {},
   "outputs": [
    {
     "name": "stdout",
     "output_type": "stream",
     "text": [
      "Model: \"sequential_19\"\n",
      "_________________________________________________________________\n",
      " Layer (type)                Output Shape              Param #   \n",
      "=================================================================\n",
      " vgg16 (Functional)          (None, 7, 7, 512)         14714688  \n",
      "                                                                 \n",
      " flatten_19 (Flatten)        (None, 25088)             0         \n",
      "                                                                 \n",
      " dense_38 (Dense)            (None, 256)               6422784   \n",
      "                                                                 \n",
      " dense_39 (Dense)            (None, 100)               25700     \n",
      "                                                                 \n",
      "=================================================================\n",
      "Total params: 21,163,172\n",
      "Trainable params: 21,163,172\n",
      "Non-trainable params: 0\n",
      "_________________________________________________________________\n"
     ]
    }
   ],
   "source": [
    "from keras import models\n",
    "from keras import layers\n",
    "model = models.Sequential()\n",
    "model.add(conv_base)\n",
    "model.add(layers.Flatten())\n",
    "model.add(layers.Dense(256, activation='relu'))\n",
    "model.add(layers.Dense(100, activation='softmax'))\n",
    "model.summary()"
   ]
  },
  {
   "cell_type": "code",
   "execution_count": 201,
   "id": "0babdbc8",
   "metadata": {},
   "outputs": [
    {
     "name": "stdout",
     "output_type": "stream",
     "text": [
      "This is the number of trainable weights before freezing the conv base: 30\n"
     ]
    }
   ],
   "source": [
    "print('This is the number of trainable weights '\n",
    "         'before freezing the conv base:', len(model.trainable_weights))"
   ]
  },
  {
   "cell_type": "code",
   "execution_count": 202,
   "id": "16dae049",
   "metadata": {},
   "outputs": [
    {
     "name": "stdout",
     "output_type": "stream",
     "text": [
      "This is the number of trainable weights after freezing the conv base: 4\n"
     ]
    }
   ],
   "source": [
    "conv_base.trainable = False\n",
    "print('This is the number of trainable weights '\n",
    "          'after freezing the conv base:', len(model.trainable_weights))"
   ]
  },
  {
   "cell_type": "code",
   "execution_count": 203,
   "id": "77c94f9a",
   "metadata": {},
   "outputs": [],
   "source": [
    "from keras.preprocessing.image import ImageDataGenerator\n",
    "a = ImageDataGenerator(\n",
    "    rescale=1./255)"
   ]
  },
  {
   "cell_type": "code",
   "execution_count": 204,
   "id": "7eae7d3b",
   "metadata": {},
   "outputs": [
    {
     "name": "stdout",
     "output_type": "stream",
     "text": [
      "Found 13572 images belonging to 100 classes.\n"
     ]
    }
   ],
   "source": [
    "train=a.flow_from_directory(directory='/Users/vijay/Downloads/sports/train',\n",
    "                           target_size=(224, 224), batch_size=10, class_mode='categorical')"
   ]
  },
  {
   "cell_type": "code",
   "execution_count": 205,
   "id": "d0c90d96",
   "metadata": {},
   "outputs": [
    {
     "name": "stdout",
     "output_type": "stream",
     "text": [
      "data batch shape: (10, 224, 224, 3)\n",
      "labels batch shape: (10, 100)\n"
     ]
    }
   ],
   "source": [
    "for data_batch, labels_batch in train:\n",
    "    print('data batch shape:', data_batch.shape)\n",
    "    print('labels batch shape:', labels_batch.shape)\n",
    "    break"
   ]
  },
  {
   "cell_type": "code",
   "execution_count": 206,
   "id": "c57ae4c6",
   "metadata": {},
   "outputs": [],
   "source": [
    "valid_datagen = ImageDataGenerator(rescale=1./255)"
   ]
  },
  {
   "cell_type": "code",
   "execution_count": 207,
   "id": "8fb303a3",
   "metadata": {},
   "outputs": [
    {
     "name": "stdout",
     "output_type": "stream",
     "text": [
      "Found 500 images belonging to 100 classes.\n"
     ]
    }
   ],
   "source": [
    "valid=valid_datagen.flow_from_directory(directory='/Users/vijay/Downloads/sports/valid',\n",
    "                           target_size=(224, 224), batch_size=10, class_mode='categorical')"
   ]
  },
  {
   "cell_type": "code",
   "execution_count": 208,
   "id": "e4e890ba",
   "metadata": {},
   "outputs": [
    {
     "name": "stdout",
     "output_type": "stream",
     "text": [
      "data batch shape: (10, 224, 224, 3)\n",
      "labels batch shape: (10, 100)\n"
     ]
    }
   ],
   "source": [
    "for data_batch, labels_batch in valid:\n",
    "    print('data batch shape:', data_batch.shape)\n",
    "    print('labels batch shape:', labels_batch.shape)\n",
    "    break"
   ]
  },
  {
   "cell_type": "code",
   "execution_count": 209,
   "id": "95634c7a",
   "metadata": {},
   "outputs": [],
   "source": [
    "from keras import optimizers\n",
    "model.compile(loss='categorical_crossentropy',optimizer='rmsprop', metrics=['accuracy'])"
   ]
  },
  {
   "cell_type": "code",
   "execution_count": 210,
   "id": "66bb8697",
   "metadata": {},
   "outputs": [
    {
     "name": "stdout",
     "output_type": "stream",
     "text": [
      "Epoch 1/100\n",
      "100/100 [==============================] - 356s 4s/step - loss: 5.5338 - accuracy: 0.0100 - val_loss: 4.6014 - val_accuracy: 0.0120\n",
      "Epoch 2/100\n",
      "100/100 [==============================] - 385s 4s/step - loss: 4.6428 - accuracy: 0.0160 - val_loss: 4.7302 - val_accuracy: 0.0160\n",
      "Epoch 3/100\n",
      "100/100 [==============================] - 382s 4s/step - loss: 4.5694 - accuracy: 0.0250 - val_loss: 4.4997 - val_accuracy: 0.0220\n",
      "Epoch 4/100\n",
      "100/100 [==============================] - 379s 4s/step - loss: 4.4127 - accuracy: 0.0280 - val_loss: 4.3307 - val_accuracy: 0.0320\n",
      "Epoch 5/100\n",
      "100/100 [==============================] - 375s 4s/step - loss: 4.2354 - accuracy: 0.0460 - val_loss: 4.1672 - val_accuracy: 0.0680\n",
      "Epoch 6/100\n",
      "100/100 [==============================] - 370s 4s/step - loss: 4.0797 - accuracy: 0.0630 - val_loss: 3.9504 - val_accuracy: 0.1020\n",
      "Epoch 7/100\n",
      "100/100 [==============================] - 368s 4s/step - loss: 3.8468 - accuracy: 0.1010 - val_loss: 3.8927 - val_accuracy: 0.0800\n",
      "Epoch 8/100\n",
      "100/100 [==============================] - 368s 4s/step - loss: 3.7246 - accuracy: 0.1190 - val_loss: 3.6751 - val_accuracy: 0.1440\n",
      "Epoch 9/100\n",
      "100/100 [==============================] - 369s 4s/step - loss: 3.5976 - accuracy: 0.1240 - val_loss: 3.4946 - val_accuracy: 0.1340\n",
      "Epoch 10/100\n",
      "100/100 [==============================] - 373s 4s/step - loss: 3.4263 - accuracy: 0.1580 - val_loss: 3.4367 - val_accuracy: 0.1640\n",
      "Epoch 11/100\n",
      "100/100 [==============================] - 369s 4s/step - loss: 3.3661 - accuracy: 0.1683 - val_loss: 3.3285 - val_accuracy: 0.1740\n",
      "Epoch 12/100\n",
      "100/100 [==============================] - 373s 4s/step - loss: 3.2273 - accuracy: 0.1940 - val_loss: 3.2098 - val_accuracy: 0.1880\n",
      "Epoch 13/100\n",
      "100/100 [==============================] - 371s 4s/step - loss: 3.1351 - accuracy: 0.1930 - val_loss: 3.0587 - val_accuracy: 0.2200\n",
      "Epoch 14/100\n",
      "100/100 [==============================] - 382s 4s/step - loss: 3.0457 - accuracy: 0.2190 - val_loss: 2.9513 - val_accuracy: 0.2140\n",
      "Epoch 15/100\n",
      "100/100 [==============================] - 382s 4s/step - loss: 2.8433 - accuracy: 0.2710 - val_loss: 3.0622 - val_accuracy: 0.2320\n",
      "Epoch 16/100\n",
      "100/100 [==============================] - 383s 4s/step - loss: 2.8434 - accuracy: 0.2460 - val_loss: 2.8289 - val_accuracy: 0.2800\n",
      "Epoch 17/100\n",
      "100/100 [==============================] - 377s 4s/step - loss: 2.6886 - accuracy: 0.2650 - val_loss: 3.3456 - val_accuracy: 0.2060\n",
      "Epoch 18/100\n",
      "100/100 [==============================] - 377s 4s/step - loss: 2.6113 - accuracy: 0.3190 - val_loss: 3.0373 - val_accuracy: 0.2220\n",
      "Epoch 19/100\n",
      "100/100 [==============================] - 375s 4s/step - loss: 2.5271 - accuracy: 0.3300 - val_loss: 2.6382 - val_accuracy: 0.3180\n",
      "Epoch 20/100\n",
      "100/100 [==============================] - 388s 4s/step - loss: 2.5166 - accuracy: 0.3100 - val_loss: 2.6435 - val_accuracy: 0.2600\n",
      "Epoch 21/100\n",
      "100/100 [==============================] - 375s 4s/step - loss: 2.3937 - accuracy: 0.3610 - val_loss: 2.5575 - val_accuracy: 0.2940\n",
      "Epoch 22/100\n",
      "100/100 [==============================] - 387s 4s/step - loss: 2.3474 - accuracy: 0.3640 - val_loss: 2.7291 - val_accuracy: 0.3040\n",
      "Epoch 23/100\n",
      "100/100 [==============================] - 372s 4s/step - loss: 2.2224 - accuracy: 0.3940 - val_loss: 2.4229 - val_accuracy: 0.3440\n",
      "Epoch 24/100\n",
      "100/100 [==============================] - 359s 4s/step - loss: 2.2632 - accuracy: 0.3710 - val_loss: 2.4065 - val_accuracy: 0.3580\n",
      "Epoch 25/100\n",
      "100/100 [==============================] - 357s 4s/step - loss: 2.2557 - accuracy: 0.3850 - val_loss: 2.5696 - val_accuracy: 0.3420\n",
      "Epoch 26/100\n",
      "100/100 [==============================] - 352s 4s/step - loss: 2.1787 - accuracy: 0.4120 - val_loss: 2.3748 - val_accuracy: 0.3660\n",
      "Epoch 27/100\n",
      "100/100 [==============================] - 350s 4s/step - loss: 2.1217 - accuracy: 0.4140 - val_loss: 2.1960 - val_accuracy: 0.4200\n",
      "Epoch 28/100\n",
      "100/100 [==============================] - 348s 3s/step - loss: 2.0971 - accuracy: 0.4470 - val_loss: 2.5321 - val_accuracy: 0.3540\n",
      "Epoch 29/100\n",
      "100/100 [==============================] - 349s 4s/step - loss: 1.9380 - accuracy: 0.4740 - val_loss: 2.2303 - val_accuracy: 0.3980\n",
      "Epoch 30/100\n",
      "100/100 [==============================] - 351s 4s/step - loss: 1.9389 - accuracy: 0.4620 - val_loss: 2.3327 - val_accuracy: 0.3840\n",
      "Epoch 31/100\n",
      "100/100 [==============================] - 398s 4s/step - loss: 1.8499 - accuracy: 0.4810 - val_loss: 2.2140 - val_accuracy: 0.4260\n",
      "Epoch 32/100\n",
      "100/100 [==============================] - 363s 4s/step - loss: 1.8728 - accuracy: 0.5110 - val_loss: 2.0930 - val_accuracy: 0.4520\n",
      "Epoch 33/100\n",
      "100/100 [==============================] - 376s 4s/step - loss: 1.7715 - accuracy: 0.5160 - val_loss: 2.0382 - val_accuracy: 0.4620\n",
      "Epoch 34/100\n",
      "100/100 [==============================] - 375s 4s/step - loss: 1.7668 - accuracy: 0.5192 - val_loss: 2.3240 - val_accuracy: 0.4440\n",
      "Epoch 35/100\n",
      "100/100 [==============================] - 368s 4s/step - loss: 1.6986 - accuracy: 0.5270 - val_loss: 2.2439 - val_accuracy: 0.4220\n",
      "Epoch 36/100\n",
      "100/100 [==============================] - 409s 4s/step - loss: 1.6062 - accuracy: 0.5360 - val_loss: 2.3414 - val_accuracy: 0.3660\n",
      "Epoch 37/100\n",
      "100/100 [==============================] - 522s 5s/step - loss: 1.7047 - accuracy: 0.5240 - val_loss: 2.1237 - val_accuracy: 0.4720\n",
      "Epoch 38/100\n",
      "100/100 [==============================] - 373s 4s/step - loss: 1.6359 - accuracy: 0.5860 - val_loss: 2.4851 - val_accuracy: 0.4180\n",
      "Epoch 39/100\n",
      "100/100 [==============================] - 370s 4s/step - loss: 1.5309 - accuracy: 0.5700 - val_loss: 2.0218 - val_accuracy: 0.4760\n",
      "Epoch 40/100\n",
      "100/100 [==============================] - 365s 4s/step - loss: 1.4467 - accuracy: 0.6040 - val_loss: 2.1035 - val_accuracy: 0.4880\n",
      "Epoch 41/100\n",
      "100/100 [==============================] - 364s 4s/step - loss: 1.5627 - accuracy: 0.5750 - val_loss: 2.1416 - val_accuracy: 0.4720\n",
      "Epoch 42/100\n",
      "100/100 [==============================] - 360s 4s/step - loss: 1.4247 - accuracy: 0.6090 - val_loss: 2.0112 - val_accuracy: 0.4880\n",
      "Epoch 43/100\n",
      "100/100 [==============================] - 358s 4s/step - loss: 1.5102 - accuracy: 0.5980 - val_loss: 2.5174 - val_accuracy: 0.4400\n",
      "Epoch 44/100\n",
      "100/100 [==============================] - 360s 4s/step - loss: 1.4546 - accuracy: 0.6070 - val_loss: 2.1976 - val_accuracy: 0.4600\n",
      "Epoch 45/100\n",
      "100/100 [==============================] - 358s 4s/step - loss: 1.3513 - accuracy: 0.6560 - val_loss: 2.0808 - val_accuracy: 0.4700\n",
      "Epoch 46/100\n",
      "100/100 [==============================] - 357s 4s/step - loss: 1.3976 - accuracy: 0.6380 - val_loss: 2.1797 - val_accuracy: 0.4900\n",
      "Epoch 47/100\n",
      "100/100 [==============================] - 358s 4s/step - loss: 1.2595 - accuracy: 0.6600 - val_loss: 2.1884 - val_accuracy: 0.4820\n",
      "Epoch 48/100\n",
      "100/100 [==============================] - 357s 4s/step - loss: 1.2766 - accuracy: 0.6530 - val_loss: 1.9733 - val_accuracy: 0.5040\n",
      "Epoch 49/100\n",
      "100/100 [==============================] - 358s 4s/step - loss: 1.2027 - accuracy: 0.6630 - val_loss: 2.0491 - val_accuracy: 0.5140\n",
      "Epoch 50/100\n",
      "100/100 [==============================] - 357s 4s/step - loss: 1.2843 - accuracy: 0.6670 - val_loss: 2.2905 - val_accuracy: 0.4940\n",
      "Epoch 51/100\n",
      "100/100 [==============================] - 358s 4s/step - loss: 1.2202 - accuracy: 0.6540 - val_loss: 1.9851 - val_accuracy: 0.5040\n",
      "Epoch 52/100\n",
      "100/100 [==============================] - 360s 4s/step - loss: 1.2541 - accuracy: 0.6650 - val_loss: 2.0087 - val_accuracy: 0.5560\n",
      "Epoch 53/100\n",
      "100/100 [==============================] - 360s 4s/step - loss: 1.1309 - accuracy: 0.6730 - val_loss: 2.1182 - val_accuracy: 0.5140\n",
      "Epoch 54/100\n",
      "100/100 [==============================] - 358s 4s/step - loss: 1.1521 - accuracy: 0.6980 - val_loss: 2.1049 - val_accuracy: 0.5080\n",
      "Epoch 55/100\n",
      "100/100 [==============================] - 358s 4s/step - loss: 1.1055 - accuracy: 0.7000 - val_loss: 1.9201 - val_accuracy: 0.5700\n",
      "Epoch 56/100\n",
      "100/100 [==============================] - 359s 4s/step - loss: 1.0687 - accuracy: 0.7010 - val_loss: 2.1406 - val_accuracy: 0.5240\n",
      "Epoch 57/100\n",
      "100/100 [==============================] - 354s 4s/step - loss: 1.0414 - accuracy: 0.7150 - val_loss: 1.8840 - val_accuracy: 0.5560\n",
      "Epoch 58/100\n",
      "100/100 [==============================] - 361s 4s/step - loss: 1.0178 - accuracy: 0.7110 - val_loss: 1.8309 - val_accuracy: 0.5720\n",
      "Epoch 59/100\n",
      "100/100 [==============================] - 381s 4s/step - loss: 1.0770 - accuracy: 0.7080 - val_loss: 2.2182 - val_accuracy: 0.5200\n",
      "Epoch 60/100\n",
      "100/100 [==============================] - 370s 4s/step - loss: 1.0299 - accuracy: 0.7150 - val_loss: 1.8663 - val_accuracy: 0.5700\n",
      "Epoch 61/100\n",
      "100/100 [==============================] - 383s 4s/step - loss: 1.0538 - accuracy: 0.7220 - val_loss: 2.0438 - val_accuracy: 0.5520\n",
      "Epoch 62/100\n",
      "100/100 [==============================] - 495s 5s/step - loss: 0.8546 - accuracy: 0.7500 - val_loss: 1.9817 - val_accuracy: 0.5500\n",
      "Epoch 63/100\n",
      "100/100 [==============================] - 470s 5s/step - loss: 1.0025 - accuracy: 0.7240 - val_loss: 1.8331 - val_accuracy: 0.5680\n",
      "Epoch 64/100\n",
      "100/100 [==============================] - 396s 4s/step - loss: 0.9514 - accuracy: 0.7420 - val_loss: 1.9796 - val_accuracy: 0.5740\n",
      "Epoch 65/100\n",
      "100/100 [==============================] - 419s 4s/step - loss: 0.8649 - accuracy: 0.7520 - val_loss: 2.2009 - val_accuracy: 0.5500\n",
      "Epoch 66/100\n",
      "100/100 [==============================] - 451s 5s/step - loss: 0.9196 - accuracy: 0.7560 - val_loss: 2.3443 - val_accuracy: 0.5080\n",
      "Epoch 67/100\n",
      "100/100 [==============================] - 369s 4s/step - loss: 0.9539 - accuracy: 0.7440 - val_loss: 1.9805 - val_accuracy: 0.5700\n",
      "Epoch 68/100\n",
      "100/100 [==============================] - 367s 4s/step - loss: 0.9302 - accuracy: 0.7450 - val_loss: 1.9671 - val_accuracy: 0.5860\n",
      "Epoch 69/100\n",
      "100/100 [==============================] - 392s 4s/step - loss: 0.8506 - accuracy: 0.7660 - val_loss: 2.0720 - val_accuracy: 0.5680\n",
      "Epoch 70/100\n",
      "100/100 [==============================] - 406s 4s/step - loss: 0.7552 - accuracy: 0.7900 - val_loss: 2.8595 - val_accuracy: 0.4740\n",
      "Epoch 71/100\n",
      "100/100 [==============================] - 375s 4s/step - loss: 0.8202 - accuracy: 0.7640 - val_loss: 2.2917 - val_accuracy: 0.5320\n",
      "Epoch 72/100\n",
      "100/100 [==============================] - 377s 4s/step - loss: 0.7644 - accuracy: 0.7890 - val_loss: 2.0533 - val_accuracy: 0.5440\n",
      "Epoch 73/100\n",
      "100/100 [==============================] - 378s 4s/step - loss: 0.7491 - accuracy: 0.7960 - val_loss: 2.0694 - val_accuracy: 0.5720\n",
      "Epoch 74/100\n",
      "100/100 [==============================] - 355s 4s/step - loss: 0.7881 - accuracy: 0.7873 - val_loss: 2.2395 - val_accuracy: 0.5820\n",
      "Epoch 75/100\n",
      "100/100 [==============================] - 352s 4s/step - loss: 0.8736 - accuracy: 0.7840 - val_loss: 2.3484 - val_accuracy: 0.5540\n",
      "Epoch 76/100\n",
      "100/100 [==============================] - 350s 4s/step - loss: 0.7476 - accuracy: 0.8050 - val_loss: 2.0671 - val_accuracy: 0.5700\n",
      "Epoch 77/100\n",
      "100/100 [==============================] - 348s 3s/step - loss: 0.7403 - accuracy: 0.8020 - val_loss: 2.0334 - val_accuracy: 0.5800\n",
      "Epoch 78/100\n",
      "100/100 [==============================] - 348s 3s/step - loss: 0.7103 - accuracy: 0.7990 - val_loss: 2.3286 - val_accuracy: 0.5720\n",
      "Epoch 79/100\n",
      "100/100 [==============================] - 347s 3s/step - loss: 0.8316 - accuracy: 0.7810 - val_loss: 1.7752 - val_accuracy: 0.6160\n",
      "Epoch 80/100\n",
      "100/100 [==============================] - 406s 4s/step - loss: 0.6899 - accuracy: 0.8120 - val_loss: 1.9610 - val_accuracy: 0.6160\n",
      "Epoch 81/100\n",
      "100/100 [==============================] - 368s 4s/step - loss: 0.7697 - accuracy: 0.7950 - val_loss: 2.0454 - val_accuracy: 0.5780\n",
      "Epoch 82/100\n",
      "100/100 [==============================] - 361s 4s/step - loss: 0.7096 - accuracy: 0.8050 - val_loss: 1.9784 - val_accuracy: 0.6080\n",
      "Epoch 83/100\n",
      "100/100 [==============================] - 356s 4s/step - loss: 0.6527 - accuracy: 0.8290 - val_loss: 1.9523 - val_accuracy: 0.5920\n",
      "Epoch 84/100\n",
      "100/100 [==============================] - 352s 4s/step - loss: 0.6733 - accuracy: 0.8130 - val_loss: 2.2240 - val_accuracy: 0.5900\n",
      "Epoch 85/100\n",
      "100/100 [==============================] - 347s 3s/step - loss: 0.6602 - accuracy: 0.8310 - val_loss: 2.1032 - val_accuracy: 0.6160\n",
      "Epoch 86/100\n",
      "100/100 [==============================] - 365s 4s/step - loss: 0.6617 - accuracy: 0.8120 - val_loss: 2.0986 - val_accuracy: 0.6340\n",
      "Epoch 87/100\n",
      "100/100 [==============================] - 357s 4s/step - loss: 0.6207 - accuracy: 0.8390 - val_loss: 2.2232 - val_accuracy: 0.5860\n",
      "Epoch 88/100\n",
      "100/100 [==============================] - 361s 4s/step - loss: 0.6884 - accuracy: 0.8200 - val_loss: 2.0088 - val_accuracy: 0.6060\n",
      "Epoch 89/100\n",
      "100/100 [==============================] - 355s 4s/step - loss: 0.6443 - accuracy: 0.8390 - val_loss: 2.0483 - val_accuracy: 0.6000\n",
      "Epoch 90/100\n",
      "100/100 [==============================] - 358s 4s/step - loss: 0.6327 - accuracy: 0.8330 - val_loss: 2.0737 - val_accuracy: 0.5880\n",
      "Epoch 91/100\n",
      "100/100 [==============================] - 361s 4s/step - loss: 0.6036 - accuracy: 0.8377 - val_loss: 2.4850 - val_accuracy: 0.5660\n",
      "Epoch 92/100\n",
      "100/100 [==============================] - 362s 4s/step - loss: 0.6163 - accuracy: 0.8440 - val_loss: 2.0659 - val_accuracy: 0.6140\n",
      "Epoch 93/100\n",
      "100/100 [==============================] - 456s 5s/step - loss: 0.5983 - accuracy: 0.8350 - val_loss: 2.1608 - val_accuracy: 0.6240\n",
      "Epoch 94/100\n",
      "100/100 [==============================] - 478s 5s/step - loss: 0.5256 - accuracy: 0.8490 - val_loss: 2.4578 - val_accuracy: 0.5740\n",
      "Epoch 95/100\n",
      "100/100 [==============================] - 470s 5s/step - loss: 0.5957 - accuracy: 0.8510 - val_loss: 2.7454 - val_accuracy: 0.5600\n",
      "Epoch 96/100\n",
      "100/100 [==============================] - 481s 5s/step - loss: 0.5852 - accuracy: 0.8510 - val_loss: 2.2470 - val_accuracy: 0.5920\n",
      "Epoch 97/100\n",
      "100/100 [==============================] - 426s 4s/step - loss: 0.5297 - accuracy: 0.8560 - val_loss: 2.2904 - val_accuracy: 0.5920\n",
      "Epoch 98/100\n",
      "100/100 [==============================] - 438s 4s/step - loss: 0.4746 - accuracy: 0.8610 - val_loss: 2.0369 - val_accuracy: 0.6020\n",
      "Epoch 99/100\n",
      "100/100 [==============================] - 470s 5s/step - loss: 0.5027 - accuracy: 0.8670 - val_loss: 1.9186 - val_accuracy: 0.6180\n",
      "Epoch 100/100\n",
      "100/100 [==============================] - 464s 5s/step - loss: 0.5543 - accuracy: 0.8520 - val_loss: 2.1601 - val_accuracy: 0.6080\n"
     ]
    }
   ],
   "source": [
    "history = model.fit(train,steps_per_epoch=100,epochs=100,validation_data=valid)"
   ]
  },
  {
   "cell_type": "code",
   "execution_count": 211,
   "id": "729f390e",
   "metadata": {},
   "outputs": [
    {
     "data": {
      "image/png": "[encoded data removed]",
      "text/plain": [
       "<Figure size 432x288 with 1 Axes>"
      ]
     },
     "metadata": {
      "needs_background": "light"
     },
     "output_type": "display_data"
    },
    {
     "data": {
      "image/png": "[encoded data removed]",
      "text/plain": [
       "<Figure size 432x288 with 1 Axes>"
      ]
     },
     "metadata": {
      "needs_background": "light"
     },
     "output_type": "display_data"
    }
   ],
   "source": [
    "import matplotlib.pyplot as plt\n",
    "acc = history.history['accuracy']\n",
    "val_acc = history.history['val_accuracy']\n",
    "loss = history.history['loss']\n",
    "val_loss = history.history['val_loss']\n",
    "epochs = range(1, len(acc) + 1)\n",
    "plt.plot(epochs, acc, 'bo', label='Training acc')\n",
    "plt.plot(epochs, val_acc, 'b', label='Validation acc')\n",
    "plt.title('Training and validation accuracy')\n",
    "plt.legend()\n",
    "plt.figure()\n",
    "plt.plot(epochs, loss, 'bo', label='Training loss')\n",
    "plt.plot(epochs, val_loss, 'b', label='Validation loss')\n",
    "plt.title('Training and validation loss')\n",
    "plt.legend()\n",
    "plt.show()"
   ]
  },
  {
   "cell_type": "code",
   "execution_count": null,
   "id": "dc3faf02",
   "metadata": {},
   "outputs": [],
   "source": []
  }
 ],
 "metadata": {
  "kernelspec": {
   "display_name": "Python 3 (ipykernel)",
   "language": "python",
   "name": "python3"
  },
  "language_info": {
   "codemirror_mode": {
    "name": "ipython",
    "version": 3
   },
   "file_extension": ".py",
   "mimetype": "text/x-python",
   "name": "python",
   "nbconvert_exporter": "python",
   "pygments_lexer": "ipython3",
   "version": "3.9.7"
  }
 },
 "nbformat": 4,
 "nbformat_minor": 5
}
